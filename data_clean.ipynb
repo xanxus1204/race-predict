{
 "cells": [
  {
   "cell_type": "code",
   "execution_count": 1,
   "metadata": {},
   "outputs": [],
   "source": [
    "import numpy as np\n",
    "import pandas as pd\n",
    "#最大表示列数の指定（ここでは50列を指定）\n",
    "pd.set_option('display.max_columns', 50)"
   ]
  },
  {
   "cell_type": "code",
   "execution_count": 2,
   "metadata": {},
   "outputs": [],
   "source": [
    "race_df = pd.read_csv(\"./csv/race-2008.csv\", sep=\",\")\n",
    "horse_df = pd.read_csv(\"./csv/horse-2008.csv\", sep=\",\")"
   ]
  },
  {
   "cell_type": "code",
   "execution_count": 3,
   "metadata": {},
   "outputs": [
    {
     "name": "stderr",
     "output_type": "stream",
     "text": [
      "/usr/local/lib/python3.7/site-packages/IPython/core/interactiveshell.py:3051: DtypeWarning: Columns (19) have mixed types. Specify dtype option on import or set low_memory=False.\n",
      "  interactivity=interactivity, compiler=compiler, result=result)\n"
     ]
    }
   ],
   "source": [
    "race_df = pd.read_csv(\"./csv/race-2008.csv\", sep=\",\")\n",
    "horse_df = pd.read_csv(\"./csv/horse-2008.csv\", sep=\",\")\n",
    "for year in range(2009, 2020):\n",
    "    race_tmp_df = pd.read_csv(\"./csv/race-\"+str(year)+\".csv\", sep=\",\")\n",
    "    horse_tmp_df = pd.read_csv(\"./csv/horse-\"+str(year)+\".csv\", sep=\",\")\n",
    "    race_df = pd.concat([race_df, race_tmp_df], axis=0)\n",
    "    horse_df = pd.concat([horse_df, horse_tmp_df], axis=0)"
   ]
  },
  {
   "cell_type": "markdown",
   "metadata": {},
   "source": [
    "## 元データの確認"
   ]
  },
  {
   "cell_type": "code",
   "execution_count": 4,
   "metadata": {},
   "outputs": [
    {
     "name": "stdout",
     "output_type": "stream",
     "text": [
      "True\n",
      "(41141, 28)\n"
     ]
    },
    {
     "data": {
      "text/html": [
       "<div>\n",
       "<style scoped>\n",
       "    .dataframe tbody tr th:only-of-type {\n",
       "        vertical-align: middle;\n",
       "    }\n",
       "\n",
       "    .dataframe tbody tr th {\n",
       "        vertical-align: top;\n",
       "    }\n",
       "\n",
       "    .dataframe thead th {\n",
       "        text-align: right;\n",
       "    }\n",
       "</style>\n",
       "<table border=\"1\" class=\"dataframe\">\n",
       "  <thead>\n",
       "    <tr style=\"text-align: right;\">\n",
       "      <th></th>\n",
       "      <th>race_id</th>\n",
       "      <th>race_round</th>\n",
       "      <th>race_title</th>\n",
       "      <th>race_course</th>\n",
       "      <th>weather</th>\n",
       "      <th>ground_status</th>\n",
       "      <th>time</th>\n",
       "      <th>date</th>\n",
       "      <th>where_racecourse</th>\n",
       "      <th>total_horse_number</th>\n",
       "      <th>frame_number_first</th>\n",
       "      <th>horse_number_first</th>\n",
       "      <th>frame_number_second</th>\n",
       "      <th>horse_number_second</th>\n",
       "      <th>frame_number_third</th>\n",
       "      <th>horse_number_third</th>\n",
       "      <th>tansyo</th>\n",
       "      <th>hukusyo_first</th>\n",
       "      <th>hukusyo_second</th>\n",
       "      <th>hukusyo_third</th>\n",
       "      <th>wakuren</th>\n",
       "      <th>umaren</th>\n",
       "      <th>wide_1_2</th>\n",
       "      <th>wide_1_3</th>\n",
       "      <th>wide_2_3</th>\n",
       "      <th>umatan</th>\n",
       "      <th>renhuku3</th>\n",
       "      <th>rentan3</th>\n",
       "    </tr>\n",
       "  </thead>\n",
       "  <tbody>\n",
       "    <tr>\n",
       "      <th>3151</th>\n",
       "      <td>201907040403</td>\n",
       "      <td>3 R</td>\n",
       "      <td>3歳以上1勝クラス</td>\n",
       "      <td>ダ左1200m</td>\n",
       "      <td>天候 : 晴</td>\n",
       "      <td>ダート : 良</td>\n",
       "      <td>発走 : 10:55</td>\n",
       "      <td>2019年12月8日</td>\n",
       "      <td>4回中京4日目</td>\n",
       "      <td>15</td>\n",
       "      <td>2</td>\n",
       "      <td>2</td>\n",
       "      <td>3</td>\n",
       "      <td>4</td>\n",
       "      <td>8</td>\n",
       "      <td>15</td>\n",
       "      <td>430</td>\n",
       "      <td>150</td>\n",
       "      <td>110</td>\n",
       "      <td>330</td>\n",
       "      <td>220</td>\n",
       "      <td>300</td>\n",
       "      <td>190</td>\n",
       "      <td>1,690</td>\n",
       "      <td>580</td>\n",
       "      <td>820</td>\n",
       "      <td>2,600</td>\n",
       "      <td>11,610</td>\n",
       "    </tr>\n",
       "    <tr>\n",
       "      <th>3152</th>\n",
       "      <td>201906050410</td>\n",
       "      <td>10 R</td>\n",
       "      <td>常総ステークス</td>\n",
       "      <td>芝右1800m</td>\n",
       "      <td>天候 : 晴</td>\n",
       "      <td>芝 : 良</td>\n",
       "      <td>発走 : 14:40\\n\\n過去の常総ステークス</td>\n",
       "      <td>2019年12月8日</td>\n",
       "      <td>5回中山4日目</td>\n",
       "      <td>10</td>\n",
       "      <td>1</td>\n",
       "      <td>1</td>\n",
       "      <td>5</td>\n",
       "      <td>5</td>\n",
       "      <td>7</td>\n",
       "      <td>7</td>\n",
       "      <td>570</td>\n",
       "      <td>170</td>\n",
       "      <td>700</td>\n",
       "      <td>120</td>\n",
       "      <td>15,010</td>\n",
       "      <td>16,440</td>\n",
       "      <td>3,950</td>\n",
       "      <td>320</td>\n",
       "      <td>1,540</td>\n",
       "      <td>29,400</td>\n",
       "      <td>7,930</td>\n",
       "      <td>85,020</td>\n",
       "    </tr>\n",
       "  </tbody>\n",
       "</table>\n",
       "</div>"
      ],
      "text/plain": [
       "           race_id race_round race_title race_course weather ground_status  \\\n",
       "3151  201907040403        3 R  3歳以上1勝クラス     ダ左1200m  天候 : 晴       ダート : 良   \n",
       "3152  201906050410       10 R   常総ステークス      芝右1800m  天候 : 晴         芝 : 良   \n",
       "\n",
       "                          time        date where_racecourse  \\\n",
       "3151                発走 : 10:55  2019年12月8日          4回中京4日目   \n",
       "3152  発走 : 14:40\\n\\n過去の常総ステークス  2019年12月8日          5回中山4日目   \n",
       "\n",
       "      total_horse_number  frame_number_first  horse_number_first  \\\n",
       "3151                  15                   2                   2   \n",
       "3152                  10                   1                   1   \n",
       "\n",
       "      frame_number_second  horse_number_second  frame_number_third  \\\n",
       "3151                    3                    4                   8   \n",
       "3152                    5                    5                   7   \n",
       "\n",
       "      horse_number_third tansyo hukusyo_first hukusyo_second hukusyo_third  \\\n",
       "3151                  15    430           150            110           330   \n",
       "3152                   7    570           170            700           120   \n",
       "\n",
       "     wakuren  umaren wide_1_2 wide_1_3 wide_2_3  umatan renhuku3 rentan3  \n",
       "3151     220     300      190    1,690      580     820    2,600  11,610  \n",
       "3152  15,010  16,440    3,950      320    1,540  29,400    7,930  85,020  "
      ]
     },
     "execution_count": 4,
     "metadata": {},
     "output_type": "execute_result"
    }
   ],
   "source": [
    "# race_id単位で重複したデータが存在しないか確認\n",
    "print(len(race_df) == len(race_df['race_id'].unique()))\n",
    "print(race_df.shape)\n",
    "race_df.tail(2)"
   ]
  },
  {
   "cell_type": "code",
   "execution_count": 5,
   "metadata": {},
   "outputs": [
    {
     "data": {
      "text/plain": [
       "16    15136\n",
       "15     4703\n",
       "14     4192\n",
       "18     3742\n",
       "13     3334\n",
       "12     3084\n",
       "11     2225\n",
       "10     1778\n",
       "9      1219\n",
       "8       708\n",
       "17      663\n",
       "7       251\n",
       "6        82\n",
       "5        24\n",
       "Name: total_horse_number, dtype: int64"
      ]
     },
     "execution_count": 5,
     "metadata": {},
     "output_type": "execute_result"
    }
   ],
   "source": [
    "# 出走馬数の確認\n",
    "race_df[\"total_horse_number\"].value_counts()"
   ]
  },
  {
   "cell_type": "code",
   "execution_count": 6,
   "metadata": {},
   "outputs": [
    {
     "name": "stdout",
     "output_type": "stream",
     "text": [
      "(591645, 20)\n"
     ]
    },
    {
     "data": {
      "text/html": [
       "<div>\n",
       "<style scoped>\n",
       "    .dataframe tbody tr th:only-of-type {\n",
       "        vertical-align: middle;\n",
       "    }\n",
       "\n",
       "    .dataframe tbody tr th {\n",
       "        vertical-align: top;\n",
       "    }\n",
       "\n",
       "    .dataframe thead th {\n",
       "        text-align: right;\n",
       "    }\n",
       "</style>\n",
       "<table border=\"1\" class=\"dataframe\">\n",
       "  <thead>\n",
       "    <tr style=\"text-align: right;\">\n",
       "      <th></th>\n",
       "      <th>race_id</th>\n",
       "      <th>rank</th>\n",
       "      <th>frame_number</th>\n",
       "      <th>horse_number</th>\n",
       "      <th>horse_id</th>\n",
       "      <th>horse_name</th>\n",
       "      <th>sex_and_age</th>\n",
       "      <th>burden_weight</th>\n",
       "      <th>rider_id</th>\n",
       "      <th>goal_time</th>\n",
       "      <th>goal_time_dif</th>\n",
       "      <th>time_value</th>\n",
       "      <th>half_way_rank</th>\n",
       "      <th>last_time</th>\n",
       "      <th>odds</th>\n",
       "      <th>popular</th>\n",
       "      <th>horse_weight</th>\n",
       "      <th>tame_time</th>\n",
       "      <th>tamer_id</th>\n",
       "      <th>owner_id</th>\n",
       "    </tr>\n",
       "  </thead>\n",
       "  <tbody>\n",
       "    <tr>\n",
       "      <th>0</th>\n",
       "      <td>200808010109</td>\n",
       "      <td>1</td>\n",
       "      <td>8</td>\n",
       "      <td>15</td>\n",
       "      <td>2003106135</td>\n",
       "      <td>レキシントンシチー</td>\n",
       "      <td>牡5</td>\n",
       "      <td>57.0</td>\n",
       "      <td>666</td>\n",
       "      <td>1:10.8</td>\n",
       "      <td>NaN</td>\n",
       "      <td>\\n\\n**\\n\\n</td>\n",
       "      <td>1-1</td>\n",
       "      <td>36.1</td>\n",
       "      <td>2.5</td>\n",
       "      <td>1.0</td>\n",
       "      <td>498(+2)</td>\n",
       "      <td>\\n\\n</td>\n",
       "      <td>429</td>\n",
       "      <td>321800</td>\n",
       "    </tr>\n",
       "    <tr>\n",
       "      <th>1</th>\n",
       "      <td>200808010109</td>\n",
       "      <td>2</td>\n",
       "      <td>2</td>\n",
       "      <td>3</td>\n",
       "      <td>2003103517</td>\n",
       "      <td>カシノエスケイプ</td>\n",
       "      <td>牝5</td>\n",
       "      <td>55.0</td>\n",
       "      <td>1111</td>\n",
       "      <td>1:11.1</td>\n",
       "      <td>2</td>\n",
       "      <td>\\n\\n**\\n\\n</td>\n",
       "      <td>10-10</td>\n",
       "      <td>35.4</td>\n",
       "      <td>24.0</td>\n",
       "      <td>8.0</td>\n",
       "      <td>502(+2)</td>\n",
       "      <td>\\n\\n</td>\n",
       "      <td>398</td>\n",
       "      <td>514009</td>\n",
       "    </tr>\n",
       "  </tbody>\n",
       "</table>\n",
       "</div>"
      ],
      "text/plain": [
       "        race_id rank  frame_number  horse_number    horse_id horse_name  \\\n",
       "0  200808010109    1             8            15  2003106135  レキシントンシチー   \n",
       "1  200808010109    2             2             3  2003103517   カシノエスケイプ   \n",
       "\n",
       "  sex_and_age  burden_weight  rider_id goal_time goal_time_dif  time_value  \\\n",
       "0          牡5           57.0       666    1:10.8           NaN  \\n\\n**\\n\\n   \n",
       "1          牝5           55.0      1111    1:11.1             2  \\n\\n**\\n\\n   \n",
       "\n",
       "  half_way_rank  last_time  odds  popular horse_weight tame_time  tamer_id  \\\n",
       "0           1-1       36.1   2.5      1.0      498(+2)      \\n\\n       429   \n",
       "1         10-10       35.4  24.0      8.0      502(+2)      \\n\\n       398   \n",
       "\n",
       "  owner_id  \n",
       "0   321800  \n",
       "1   514009  "
      ]
     },
     "execution_count": 6,
     "metadata": {},
     "output_type": "execute_result"
    }
   ],
   "source": [
    "print(horse_df.shape)\n",
    "horse_df.head(2)"
   ]
  },
  {
   "cell_type": "markdown",
   "metadata": {},
   "source": [
    "## raceデータの整形"
   ]
  },
  {
   "cell_type": "code",
   "execution_count": 7,
   "metadata": {},
   "outputs": [
    {
     "data": {
      "text/html": [
       "<div>\n",
       "<style scoped>\n",
       "    .dataframe tbody tr th:only-of-type {\n",
       "        vertical-align: middle;\n",
       "    }\n",
       "\n",
       "    .dataframe tbody tr th {\n",
       "        vertical-align: top;\n",
       "    }\n",
       "\n",
       "    .dataframe thead th {\n",
       "        text-align: right;\n",
       "    }\n",
       "</style>\n",
       "<table border=\"1\" class=\"dataframe\">\n",
       "  <thead>\n",
       "    <tr style=\"text-align: right;\">\n",
       "      <th></th>\n",
       "      <th>race_id</th>\n",
       "      <th>race_round</th>\n",
       "      <th>race_title</th>\n",
       "      <th>race_course</th>\n",
       "      <th>weather</th>\n",
       "      <th>ground_status</th>\n",
       "      <th>time</th>\n",
       "      <th>date</th>\n",
       "      <th>where_racecourse</th>\n",
       "      <th>total_horse_number</th>\n",
       "      <th>frame_number_first</th>\n",
       "      <th>horse_number_first</th>\n",
       "      <th>frame_number_second</th>\n",
       "      <th>horse_number_second</th>\n",
       "      <th>frame_number_third</th>\n",
       "      <th>horse_number_third</th>\n",
       "      <th>tansyo</th>\n",
       "      <th>hukusyo_first</th>\n",
       "      <th>hukusyo_second</th>\n",
       "      <th>hukusyo_third</th>\n",
       "      <th>wakuren</th>\n",
       "      <th>umaren</th>\n",
       "      <th>wide_1_2</th>\n",
       "      <th>wide_1_3</th>\n",
       "      <th>wide_2_3</th>\n",
       "      <th>umatan</th>\n",
       "      <th>renhuku3</th>\n",
       "      <th>rentan3</th>\n",
       "    </tr>\n",
       "  </thead>\n",
       "  <tbody>\n",
       "    <tr>\n",
       "      <th>0</th>\n",
       "      <td>200808010109</td>\n",
       "      <td>9 R</td>\n",
       "      <td>初夢ステークス</td>\n",
       "      <td>ダ右1200m</td>\n",
       "      <td>天候 : 晴</td>\n",
       "      <td>ダート : 良</td>\n",
       "      <td>発走 : 14:30\\n\\n過去の初夢ステークス</td>\n",
       "      <td>2008年1月5日</td>\n",
       "      <td>1回京都1日目</td>\n",
       "      <td>16</td>\n",
       "      <td>8</td>\n",
       "      <td>15</td>\n",
       "      <td>2</td>\n",
       "      <td>3</td>\n",
       "      <td>7</td>\n",
       "      <td>13</td>\n",
       "      <td>250</td>\n",
       "      <td>120</td>\n",
       "      <td>410</td>\n",
       "      <td>140</td>\n",
       "      <td>1,880</td>\n",
       "      <td>2,550</td>\n",
       "      <td>930</td>\n",
       "      <td>230</td>\n",
       "      <td>850</td>\n",
       "      <td>3,320</td>\n",
       "      <td>2,330</td>\n",
       "      <td>13,400</td>\n",
       "    </tr>\n",
       "  </tbody>\n",
       "</table>\n",
       "</div>"
      ],
      "text/plain": [
       "        race_id race_round race_title race_course weather ground_status  \\\n",
       "0  200808010109        9 R   初夢ステークス      ダ右1200m  天候 : 晴       ダート : 良   \n",
       "\n",
       "                       time       date where_racecourse  total_horse_number  \\\n",
       "0  発走 : 14:30\\n\\n過去の初夢ステークス  2008年1月5日          1回京都1日目                  16   \n",
       "\n",
       "   frame_number_first  horse_number_first  frame_number_second  \\\n",
       "0                   8                  15                    2   \n",
       "\n",
       "   horse_number_second  frame_number_third  horse_number_third tansyo  \\\n",
       "0                    3                   7                  13    250   \n",
       "\n",
       "  hukusyo_first hukusyo_second hukusyo_third wakuren umaren wide_1_2 wide_1_3  \\\n",
       "0           120            410           140   1,880  2,550      930      230   \n",
       "\n",
       "  wide_2_3 umatan renhuku3 rentan3  \n",
       "0      850  3,320    2,330  13,400  "
      ]
     },
     "execution_count": 7,
     "metadata": {},
     "output_type": "execute_result"
    }
   ],
   "source": [
    "race_df.head(1)"
   ]
  },
  {
   "cell_type": "code",
   "execution_count": 8,
   "metadata": {},
   "outputs": [
    {
     "data": {
      "text/html": [
       "<div>\n",
       "<style scoped>\n",
       "    .dataframe tbody tr th:only-of-type {\n",
       "        vertical-align: middle;\n",
       "    }\n",
       "\n",
       "    .dataframe tbody tr th {\n",
       "        vertical-align: top;\n",
       "    }\n",
       "\n",
       "    .dataframe thead th {\n",
       "        text-align: right;\n",
       "    }\n",
       "</style>\n",
       "<table border=\"1\" class=\"dataframe\">\n",
       "  <thead>\n",
       "    <tr style=\"text-align: right;\">\n",
       "      <th></th>\n",
       "      <th>race_id</th>\n",
       "      <th>rank</th>\n",
       "      <th>frame_number</th>\n",
       "      <th>horse_number</th>\n",
       "      <th>horse_id</th>\n",
       "      <th>horse_name</th>\n",
       "      <th>sex_and_age</th>\n",
       "      <th>burden_weight</th>\n",
       "      <th>rider_id</th>\n",
       "      <th>goal_time</th>\n",
       "      <th>goal_time_dif</th>\n",
       "      <th>time_value</th>\n",
       "      <th>half_way_rank</th>\n",
       "      <th>last_time</th>\n",
       "      <th>odds</th>\n",
       "      <th>popular</th>\n",
       "      <th>horse_weight</th>\n",
       "      <th>tame_time</th>\n",
       "      <th>tamer_id</th>\n",
       "      <th>owner_id</th>\n",
       "    </tr>\n",
       "  </thead>\n",
       "  <tbody>\n",
       "    <tr>\n",
       "      <th>4533</th>\n",
       "      <td>200805010811</td>\n",
       "      <td>1</td>\n",
       "      <td>8</td>\n",
       "      <td>15</td>\n",
       "      <td>2002100877</td>\n",
       "      <td>ヴァーミリアン</td>\n",
       "      <td>牡6</td>\n",
       "      <td>57.0</td>\n",
       "      <td>666</td>\n",
       "      <td>1:35.3</td>\n",
       "      <td>NaN</td>\n",
       "      <td>\\n\\n**\\n\\n</td>\n",
       "      <td>5-3</td>\n",
       "      <td>35.9</td>\n",
       "      <td>2.4</td>\n",
       "      <td>1.0</td>\n",
       "      <td>520(+7)</td>\n",
       "      <td>\\n\\n</td>\n",
       "      <td>1022</td>\n",
       "      <td>226800</td>\n",
       "    </tr>\n",
       "    <tr>\n",
       "      <th>4534</th>\n",
       "      <td>200805010811</td>\n",
       "      <td>2</td>\n",
       "      <td>5</td>\n",
       "      <td>10</td>\n",
       "      <td>2000107570</td>\n",
       "      <td>ブルーコンコルド</td>\n",
       "      <td>牡8</td>\n",
       "      <td>57.0</td>\n",
       "      <td>732</td>\n",
       "      <td>1:35.6</td>\n",
       "      <td>1.3/4</td>\n",
       "      <td>\\n\\n**\\n\\n</td>\n",
       "      <td>4-3</td>\n",
       "      <td>36.2</td>\n",
       "      <td>19.4</td>\n",
       "      <td>7.0</td>\n",
       "      <td>508(+1)</td>\n",
       "      <td>\\n\\n</td>\n",
       "      <td>1040</td>\n",
       "      <td>188800</td>\n",
       "    </tr>\n",
       "    <tr>\n",
       "      <th>4535</th>\n",
       "      <td>200805010811</td>\n",
       "      <td>3</td>\n",
       "      <td>8</td>\n",
       "      <td>16</td>\n",
       "      <td>2002104665</td>\n",
       "      <td>ワイルドワンダー</td>\n",
       "      <td>牡6</td>\n",
       "      <td>57.0</td>\n",
       "      <td>5203</td>\n",
       "      <td>1:35.9</td>\n",
       "      <td>2</td>\n",
       "      <td>\\n\\n**\\n\\n</td>\n",
       "      <td>8-7</td>\n",
       "      <td>36.3</td>\n",
       "      <td>5.1</td>\n",
       "      <td>3.0</td>\n",
       "      <td>452(+4)</td>\n",
       "      <td>\\n\\n</td>\n",
       "      <td>1067</td>\n",
       "      <td>909006</td>\n",
       "    </tr>\n",
       "    <tr>\n",
       "      <th>4536</th>\n",
       "      <td>200805010811</td>\n",
       "      <td>4</td>\n",
       "      <td>4</td>\n",
       "      <td>8</td>\n",
       "      <td>2004105013</td>\n",
       "      <td>ロングプライド</td>\n",
       "      <td>牡4</td>\n",
       "      <td>57.0</td>\n",
       "      <td>432</td>\n",
       "      <td>1:36.1</td>\n",
       "      <td>1.1/4</td>\n",
       "      <td>\\n\\n**\\n\\n</td>\n",
       "      <td>11-10</td>\n",
       "      <td>36.3</td>\n",
       "      <td>10.3</td>\n",
       "      <td>4.0</td>\n",
       "      <td>516(-6)</td>\n",
       "      <td>\\n\\n</td>\n",
       "      <td>350</td>\n",
       "      <td>602002</td>\n",
       "    </tr>\n",
       "    <tr>\n",
       "      <th>4537</th>\n",
       "      <td>200805010811</td>\n",
       "      <td>5</td>\n",
       "      <td>6</td>\n",
       "      <td>12</td>\n",
       "      <td>1999106730</td>\n",
       "      <td>リミットレスビッド</td>\n",
       "      <td>牡9</td>\n",
       "      <td>57.0</td>\n",
       "      <td>663</td>\n",
       "      <td>1:36.2</td>\n",
       "      <td>1/2</td>\n",
       "      <td>\\n\\n**\\n\\n</td>\n",
       "      <td>8-7</td>\n",
       "      <td>36.6</td>\n",
       "      <td>128.6</td>\n",
       "      <td>14.0</td>\n",
       "      <td>516(0)</td>\n",
       "      <td>\\n\\n</td>\n",
       "      <td>425</td>\n",
       "      <td>415800</td>\n",
       "    </tr>\n",
       "    <tr>\n",
       "      <th>4538</th>\n",
       "      <td>200805010811</td>\n",
       "      <td>6</td>\n",
       "      <td>3</td>\n",
       "      <td>5</td>\n",
       "      <td>2000101528</td>\n",
       "      <td>クワイエットデイ</td>\n",
       "      <td>牡8</td>\n",
       "      <td>57.0</td>\n",
       "      <td>685</td>\n",
       "      <td>1:36.3</td>\n",
       "      <td>3/4</td>\n",
       "      <td>\\n\\n**\\n\\n</td>\n",
       "      <td>11-10</td>\n",
       "      <td>36.5</td>\n",
       "      <td>35.7</td>\n",
       "      <td>9.0</td>\n",
       "      <td>494(-2)</td>\n",
       "      <td>\\n\\n</td>\n",
       "      <td>308</td>\n",
       "      <td>226800</td>\n",
       "    </tr>\n",
       "    <tr>\n",
       "      <th>4539</th>\n",
       "      <td>200805010811</td>\n",
       "      <td>7</td>\n",
       "      <td>7</td>\n",
       "      <td>14</td>\n",
       "      <td>2002100600</td>\n",
       "      <td>デアリングハート</td>\n",
       "      <td>牝6</td>\n",
       "      <td>55.0</td>\n",
       "      <td>705</td>\n",
       "      <td>1:36.5</td>\n",
       "      <td>1.1/4</td>\n",
       "      <td>\\n\\n**\\n\\n</td>\n",
       "      <td>2-2</td>\n",
       "      <td>37.3</td>\n",
       "      <td>36.9</td>\n",
       "      <td>10.0</td>\n",
       "      <td>424(+7)</td>\n",
       "      <td>\\n\\n</td>\n",
       "      <td>1055</td>\n",
       "      <td>415800</td>\n",
       "    </tr>\n",
       "    <tr>\n",
       "      <th>4540</th>\n",
       "      <td>200805010811</td>\n",
       "      <td>8</td>\n",
       "      <td>5</td>\n",
       "      <td>9</td>\n",
       "      <td>2002102252</td>\n",
       "      <td>メイショウトウコン</td>\n",
       "      <td>牡6</td>\n",
       "      <td>57.0</td>\n",
       "      <td>1026</td>\n",
       "      <td>1:37.0</td>\n",
       "      <td>3</td>\n",
       "      <td>\\n\\n**\\n\\n</td>\n",
       "      <td>13-12</td>\n",
       "      <td>37.0</td>\n",
       "      <td>14.2</td>\n",
       "      <td>5.0</td>\n",
       "      <td>462(0)</td>\n",
       "      <td>\\n\\n</td>\n",
       "      <td>340</td>\n",
       "      <td>523005</td>\n",
       "    </tr>\n",
       "    <tr>\n",
       "      <th>4541</th>\n",
       "      <td>200805010811</td>\n",
       "      <td>9</td>\n",
       "      <td>4</td>\n",
       "      <td>7</td>\n",
       "      <td>2004104693</td>\n",
       "      <td>ドラゴンファイヤー</td>\n",
       "      <td>牡4</td>\n",
       "      <td>57.0</td>\n",
       "      <td>945</td>\n",
       "      <td>1:37.1</td>\n",
       "      <td>クビ</td>\n",
       "      <td>\\n\\n**\\n\\n</td>\n",
       "      <td>14-14</td>\n",
       "      <td>36.8</td>\n",
       "      <td>14.8</td>\n",
       "      <td>6.0</td>\n",
       "      <td>460(-14)</td>\n",
       "      <td>\\n\\n</td>\n",
       "      <td>1067</td>\n",
       "      <td>208008</td>\n",
       "    </tr>\n",
       "    <tr>\n",
       "      <th>4542</th>\n",
       "      <td>200805010811</td>\n",
       "      <td>10</td>\n",
       "      <td>2</td>\n",
       "      <td>3</td>\n",
       "      <td>2004105545</td>\n",
       "      <td>アンパサンド</td>\n",
       "      <td>牡4</td>\n",
       "      <td>57.0</td>\n",
       "      <td>5386</td>\n",
       "      <td>1:37.3</td>\n",
       "      <td>1.1/4</td>\n",
       "      <td>\\n\\n**\\n\\n</td>\n",
       "      <td>5-7</td>\n",
       "      <td>37.7</td>\n",
       "      <td>118.9</td>\n",
       "      <td>13.0</td>\n",
       "      <td>478(-10)</td>\n",
       "      <td>\\n\\n</td>\n",
       "      <td>5392</td>\n",
       "      <td>169030</td>\n",
       "    </tr>\n",
       "    <tr>\n",
       "      <th>4543</th>\n",
       "      <td>200805010811</td>\n",
       "      <td>11</td>\n",
       "      <td>3</td>\n",
       "      <td>6</td>\n",
       "      <td>2000102811</td>\n",
       "      <td>メイショウバトラー</td>\n",
       "      <td>牝8</td>\n",
       "      <td>55.0</td>\n",
       "      <td>1014</td>\n",
       "      <td>1:37.5</td>\n",
       "      <td>1.1/4</td>\n",
       "      <td>\\n\\n**\\n\\n</td>\n",
       "      <td>3-3</td>\n",
       "      <td>38.2</td>\n",
       "      <td>73.3</td>\n",
       "      <td>12.0</td>\n",
       "      <td>518(0)</td>\n",
       "      <td>\\n\\n</td>\n",
       "      <td>216</td>\n",
       "      <td>523005</td>\n",
       "    </tr>\n",
       "    <tr>\n",
       "      <th>4544</th>\n",
       "      <td>200805010811</td>\n",
       "      <td>12</td>\n",
       "      <td>1</td>\n",
       "      <td>1</td>\n",
       "      <td>2002102938</td>\n",
       "      <td>フジノウェーブ</td>\n",
       "      <td>牡6</td>\n",
       "      <td>57.0</td>\n",
       "      <td>5404</td>\n",
       "      <td>1:37.7</td>\n",
       "      <td>1.1/2</td>\n",
       "      <td>\\n\\n**\\n\\n</td>\n",
       "      <td>14-15</td>\n",
       "      <td>37.2</td>\n",
       "      <td>65.8</td>\n",
       "      <td>11.0</td>\n",
       "      <td>492(+11)</td>\n",
       "      <td>\\n\\n</td>\n",
       "      <td>5318</td>\n",
       "      <td>724800</td>\n",
       "    </tr>\n",
       "    <tr>\n",
       "      <th>4545</th>\n",
       "      <td>200805010811</td>\n",
       "      <td>13</td>\n",
       "      <td>7</td>\n",
       "      <td>13</td>\n",
       "      <td>2001104731</td>\n",
       "      <td>ビッググラス</td>\n",
       "      <td>牡7</td>\n",
       "      <td>57.0</td>\n",
       "      <td>5230</td>\n",
       "      <td>1:37.8</td>\n",
       "      <td>クビ</td>\n",
       "      <td>\\n\\n**\\n\\n</td>\n",
       "      <td>5-3</td>\n",
       "      <td>38.5</td>\n",
       "      <td>194.0</td>\n",
       "      <td>16.0</td>\n",
       "      <td>530(-4)</td>\n",
       "      <td>\\n\\n</td>\n",
       "      <td>5318</td>\n",
       "      <td>750005</td>\n",
       "    </tr>\n",
       "    <tr>\n",
       "      <th>4546</th>\n",
       "      <td>200805010811</td>\n",
       "      <td>14</td>\n",
       "      <td>1</td>\n",
       "      <td>2</td>\n",
       "      <td>1996110169</td>\n",
       "      <td>ノボトゥルー</td>\n",
       "      <td>牡12</td>\n",
       "      <td>57.0</td>\n",
       "      <td>684</td>\n",
       "      <td>1:37.9</td>\n",
       "      <td>1/2</td>\n",
       "      <td>\\n\\n**\\n\\n</td>\n",
       "      <td>8-12</td>\n",
       "      <td>37.9</td>\n",
       "      <td>165.7</td>\n",
       "      <td>15.0</td>\n",
       "      <td>456(0)</td>\n",
       "      <td>\\n\\n</td>\n",
       "      <td>427</td>\n",
       "      <td>978800</td>\n",
       "    </tr>\n",
       "    <tr>\n",
       "      <th>4547</th>\n",
       "      <td>200805010811</td>\n",
       "      <td>15</td>\n",
       "      <td>6</td>\n",
       "      <td>11</td>\n",
       "      <td>2004102884</td>\n",
       "      <td>ヴィクトリー</td>\n",
       "      <td>牡4</td>\n",
       "      <td>57.0</td>\n",
       "      <td>711</td>\n",
       "      <td>1:38.9</td>\n",
       "      <td>6</td>\n",
       "      <td>\\n\\n**\\n\\n</td>\n",
       "      <td>1-1</td>\n",
       "      <td>39.8</td>\n",
       "      <td>23.1</td>\n",
       "      <td>8.0</td>\n",
       "      <td>494(+6)</td>\n",
       "      <td>\\n\\n</td>\n",
       "      <td>1002</td>\n",
       "      <td>372006</td>\n",
       "    </tr>\n",
       "    <tr>\n",
       "      <th>4548</th>\n",
       "      <td>200805010811</td>\n",
       "      <td>中</td>\n",
       "      <td>2</td>\n",
       "      <td>4</td>\n",
       "      <td>2002101312</td>\n",
       "      <td>フィールドルージュ</td>\n",
       "      <td>牡6</td>\n",
       "      <td>57.0</td>\n",
       "      <td>660</td>\n",
       "      <td>NaN</td>\n",
       "      <td>NaN</td>\n",
       "      <td>\\n\\n**\\n\\n</td>\n",
       "      <td>NaN</td>\n",
       "      <td>NaN</td>\n",
       "      <td>5.0</td>\n",
       "      <td>2.0</td>\n",
       "      <td>498(+2)</td>\n",
       "      <td>\\n\\n</td>\n",
       "      <td>1028</td>\n",
       "      <td>769009</td>\n",
       "    </tr>\n",
       "  </tbody>\n",
       "</table>\n",
       "</div>"
      ],
      "text/plain": [
       "           race_id rank  frame_number  horse_number    horse_id horse_name  \\\n",
       "4533  200805010811    1             8            15  2002100877    ヴァーミリアン   \n",
       "4534  200805010811    2             5            10  2000107570   ブルーコンコルド   \n",
       "4535  200805010811    3             8            16  2002104665   ワイルドワンダー   \n",
       "4536  200805010811    4             4             8  2004105013    ロングプライド   \n",
       "4537  200805010811    5             6            12  1999106730  リミットレスビッド   \n",
       "4538  200805010811    6             3             5  2000101528   クワイエットデイ   \n",
       "4539  200805010811    7             7            14  2002100600   デアリングハート   \n",
       "4540  200805010811    8             5             9  2002102252  メイショウトウコン   \n",
       "4541  200805010811    9             4             7  2004104693  ドラゴンファイヤー   \n",
       "4542  200805010811   10             2             3  2004105545     アンパサンド   \n",
       "4543  200805010811   11             3             6  2000102811  メイショウバトラー   \n",
       "4544  200805010811   12             1             1  2002102938    フジノウェーブ   \n",
       "4545  200805010811   13             7            13  2001104731     ビッググラス   \n",
       "4546  200805010811   14             1             2  1996110169     ノボトゥルー   \n",
       "4547  200805010811   15             6            11  2004102884     ヴィクトリー   \n",
       "4548  200805010811    中             2             4  2002101312  フィールドルージュ   \n",
       "\n",
       "     sex_and_age  burden_weight  rider_id goal_time goal_time_dif  time_value  \\\n",
       "4533          牡6           57.0       666    1:35.3           NaN  \\n\\n**\\n\\n   \n",
       "4534          牡8           57.0       732    1:35.6         1.3/4  \\n\\n**\\n\\n   \n",
       "4535          牡6           57.0      5203    1:35.9             2  \\n\\n**\\n\\n   \n",
       "4536          牡4           57.0       432    1:36.1         1.1/4  \\n\\n**\\n\\n   \n",
       "4537          牡9           57.0       663    1:36.2           1/2  \\n\\n**\\n\\n   \n",
       "4538          牡8           57.0       685    1:36.3           3/4  \\n\\n**\\n\\n   \n",
       "4539          牝6           55.0       705    1:36.5         1.1/4  \\n\\n**\\n\\n   \n",
       "4540          牡6           57.0      1026    1:37.0             3  \\n\\n**\\n\\n   \n",
       "4541          牡4           57.0       945    1:37.1            クビ  \\n\\n**\\n\\n   \n",
       "4542          牡4           57.0      5386    1:37.3         1.1/4  \\n\\n**\\n\\n   \n",
       "4543          牝8           55.0      1014    1:37.5         1.1/4  \\n\\n**\\n\\n   \n",
       "4544          牡6           57.0      5404    1:37.7         1.1/2  \\n\\n**\\n\\n   \n",
       "4545          牡7           57.0      5230    1:37.8            クビ  \\n\\n**\\n\\n   \n",
       "4546         牡12           57.0       684    1:37.9           1/2  \\n\\n**\\n\\n   \n",
       "4547          牡4           57.0       711    1:38.9             6  \\n\\n**\\n\\n   \n",
       "4548          牡6           57.0       660       NaN           NaN  \\n\\n**\\n\\n   \n",
       "\n",
       "     half_way_rank  last_time   odds  popular horse_weight tame_time  \\\n",
       "4533           5-3       35.9    2.4      1.0      520(+7)      \\n\\n   \n",
       "4534           4-3       36.2   19.4      7.0      508(+1)      \\n\\n   \n",
       "4535           8-7       36.3    5.1      3.0      452(+4)      \\n\\n   \n",
       "4536         11-10       36.3   10.3      4.0      516(-6)      \\n\\n   \n",
       "4537           8-7       36.6  128.6     14.0       516(0)      \\n\\n   \n",
       "4538         11-10       36.5   35.7      9.0      494(-2)      \\n\\n   \n",
       "4539           2-2       37.3   36.9     10.0      424(+7)      \\n\\n   \n",
       "4540         13-12       37.0   14.2      5.0       462(0)      \\n\\n   \n",
       "4541         14-14       36.8   14.8      6.0     460(-14)      \\n\\n   \n",
       "4542           5-7       37.7  118.9     13.0     478(-10)      \\n\\n   \n",
       "4543           3-3       38.2   73.3     12.0       518(0)      \\n\\n   \n",
       "4544         14-15       37.2   65.8     11.0     492(+11)      \\n\\n   \n",
       "4545           5-3       38.5  194.0     16.0      530(-4)      \\n\\n   \n",
       "4546          8-12       37.9  165.7     15.0       456(0)      \\n\\n   \n",
       "4547           1-1       39.8   23.1      8.0      494(+6)      \\n\\n   \n",
       "4548           NaN        NaN    5.0      2.0      498(+2)      \\n\\n   \n",
       "\n",
       "      tamer_id owner_id  \n",
       "4533      1022   226800  \n",
       "4534      1040   188800  \n",
       "4535      1067   909006  \n",
       "4536       350   602002  \n",
       "4537       425   415800  \n",
       "4538       308   226800  \n",
       "4539      1055   415800  \n",
       "4540       340   523005  \n",
       "4541      1067   208008  \n",
       "4542      5392   169030  \n",
       "4543       216   523005  \n",
       "4544      5318   724800  \n",
       "4545      5318   750005  \n",
       "4546       427   978800  \n",
       "4547      1002   372006  \n",
       "4548      1028   769009  "
      ]
     },
     "execution_count": 8,
     "metadata": {},
     "output_type": "execute_result"
    }
   ],
   "source": [
    "horse_df[horse_df['race_id'] == 200805010811]"
   ]
  },
  {
   "cell_type": "markdown",
   "metadata": {},
   "source": [
    "### race_id\n",
    "そのままでOK"
   ]
  },
  {
   "cell_type": "code",
   "execution_count": 9,
   "metadata": {},
   "outputs": [
    {
     "data": {
      "text/plain": [
       "dtype('int64')"
      ]
     },
     "execution_count": 9,
     "metadata": {},
     "output_type": "execute_result"
    }
   ],
   "source": [
    "# 一応確認\n",
    "race_df[\"race_id\"].dtypes"
   ]
  },
  {
   "cell_type": "markdown",
   "metadata": {},
   "source": [
    "### race_round\n",
    "余分な空白とRを取り除く"
   ]
  },
  {
   "cell_type": "code",
   "execution_count": 10,
   "metadata": {},
   "outputs": [
    {
     "data": {
      "text/plain": [
       "dtype('O')"
      ]
     },
     "execution_count": 10,
     "metadata": {},
     "output_type": "execute_result"
    }
   ],
   "source": [
    "race_df[\"race_round\"].dtypes"
   ]
  },
  {
   "cell_type": "code",
   "execution_count": 11,
   "metadata": {},
   "outputs": [
    {
     "data": {
      "text/plain": [
       "array(['9 R', '8 R', '7 R', '12 R', '2 R', '10 R', '5 R', '6 R', '1 R',\n",
       "       '3 R', '11 R', '4 R', '      2 R\\n      '], dtype=object)"
      ]
     },
     "execution_count": 11,
     "metadata": {},
     "output_type": "execute_result"
    }
   ],
   "source": [
    "race_df['race_round'].unique()"
   ]
  },
  {
   "cell_type": "code",
   "execution_count": 12,
   "metadata": {},
   "outputs": [],
   "source": [
    "race_df['race_round'] = race_df['race_round'].str.strip('R \\n')"
   ]
  },
  {
   "cell_type": "code",
   "execution_count": 13,
   "metadata": {},
   "outputs": [
    {
     "data": {
      "text/plain": [
       "array(['9', '8', '7', '12', '2', '10', '5', '6', '1', '3', '11', '4'],\n",
       "      dtype=object)"
      ]
     },
     "execution_count": 13,
     "metadata": {},
     "output_type": "execute_result"
    }
   ],
   "source": [
    "race_df['race_round'].unique()"
   ]
  },
  {
   "cell_type": "code",
   "execution_count": 14,
   "metadata": {},
   "outputs": [
    {
     "data": {
      "text/plain": [
       "dtype('int64')"
      ]
     },
     "execution_count": 14,
     "metadata": {},
     "output_type": "execute_result"
    }
   ],
   "source": [
    "race_df['race_round'] = race_df['race_round'].astype(int)\n",
    "race_df[\"race_round\"].dtypes"
   ]
  },
  {
   "cell_type": "markdown",
   "metadata": {},
   "source": [
    "### race_title\n",
    "いらないので削除"
   ]
  },
  {
   "cell_type": "code",
   "execution_count": 15,
   "metadata": {},
   "outputs": [],
   "source": [
    "# もともとのカラムは不要なので削除\n",
    "# race_df.drop(['race_title'], axis=1, inplace=True)"
   ]
  },
  {
   "cell_type": "markdown",
   "metadata": {},
   "source": [
    "### race_course\n",
    "「ダ右1200m」などであれば、ダート・右回り・1200に分割して、それぞれ別のカラムにする。\n",
    "\n",
    "新たに4つのカラムを追加\n",
    "- 障害コースか？\n",
    "- 地面のタイプは何か？\n",
    "- 右回り・左回り・直線か？\n",
    "- 距離は？"
   ]
  },
  {
   "cell_type": "code",
   "execution_count": 16,
   "metadata": {},
   "outputs": [
    {
     "data": {
      "text/plain": [
       "array(['ダ右1200m', 'ダ右1800m', 'ダ右1700m', '芝右 外1600m', '芝右 外2200m',\n",
       "       '芝右 外1200m', '芝右2000m', 'ダ右1400m', '芝右 外1800m', '芝右1400m',\n",
       "       'ダ右1000m', '芝右1600m', '障芝 ダート2880m', '芝右 外2400m', '芝右1800m',\n",
       "       '芝右1200m', 'ダ右2400m', '障芝 ダート3190m', '障芝 ダート3200m', '芝右2600m',\n",
       "       'ダ右2500m', '障芝 ダート2930m', '芝右 外1400m', '芝右2500m', '芝右 外3000m',\n",
       "       '芝左2000m', '芝左1400m', '芝左1800m', 'ダ左1300m', 'ダ左1600m', '芝左1600m',\n",
       "       '芝左2400m', '芝左3400m', 'ダ右1900m', '障芝 ダート3300m', 'ダ左1400m',\n",
       "       'ダ左2100m', '障芝 ダート3000m', 'ダ左2400m', '障芝 ダート3790m', 'ダ左1700m',\n",
       "       '芝左1200m', '芝右2200m', 'ダ左1000m', 'ダ左2300m', 'ダ右2000m',\n",
       "       '障芝 ダート2970m', '芝左2500m', '障芝 外3350m', '障芝 ダート3110m', '芝右3000m',\n",
       "       '障芝3900m', 'ダ右1150m', '障芝 ダート2910m', '障芝 ダート3170m', '芝左2300m',\n",
       "       '障芝 外4250m', '障芝3140m', 'ダ左1200m', 'ダ左1800m', '芝左2200m',\n",
       "       '芝左 外2000m', '芝左 外1600m', '芝直線1000m', '芝左 外1800m', '障芝 左2800m',\n",
       "       '芝右 外3200m', '障芝 ダート3100m', '障芝 内-外3170m', '芝右1700m', '芝右1000m',\n",
       "       '障芝2750m', '障芝 左3370m', '障芝3300m', '障芝2770m', '障芝 外-内2850m',\n",
       "       '障芝3380m', '障芝3390m', '障芝2900m', '芝右1500m', '障芝 外-内3250m',\n",
       "       '障芝3210m', '障芝3930m', '障芝3570m', '障芝4100m', '芝右 内2周3600m',\n",
       "       '障芝 ダート3285m', '障芝 ダート3760m', '障芝 外4260m', 'ダ左2500m', '障芝3110m',\n",
       "       'ダ左1900m', '障芝3000m', '障芝3330m', '障芝 外-内2890m', '障芝 外-内3290m',\n",
       "       '障芝3350m', '障芝2800m', '障芝2860m', '芝右 外2600m'], dtype=object)"
      ]
     },
     "execution_count": 16,
     "metadata": {},
     "output_type": "execute_result"
    }
   ],
   "source": [
    "race_df[\"race_course\"].unique()"
   ]
  },
  {
   "cell_type": "code",
   "execution_count": 17,
   "metadata": {},
   "outputs": [],
   "source": [
    "# 正規表現で取得\n",
    "\n",
    "# 障害か、地面のタイプは何か、左か、右か、直線か、\n",
    "obstacle = race_df[\"race_course\"].str.extract('(障)', expand=True)\n",
    "ground_type = race_df[\"race_course\"].str.extract('(ダ|芝)', expand=True)\n",
    "is_left_right_straight = race_df[\"race_course\"].str.extract('(左|右|直線)', expand=True)\n",
    "distance = race_df[\"race_course\"].str.extract('(\\d+)m', expand=True)\n",
    "\n",
    "obstacle.columns ={\"is_obstacle\"}\n",
    "ground_type.columns ={\"ground_type\"}\n",
    "is_left_right_straight.columns = {\"is_left_right_straight\"}\n",
    "distance.columns = {\"distance\"}\n",
    "\n",
    "race_df = pd.concat([race_df, obstacle], axis=1)\n",
    "race_df = pd.concat([race_df, ground_type], axis=1)\n",
    "race_df = pd.concat([race_df, is_left_right_straight], axis=1)\n",
    "race_df = pd.concat([race_df, distance], axis=1)"
   ]
  },
  {
   "cell_type": "code",
   "execution_count": 18,
   "metadata": {},
   "outputs": [],
   "source": [
    "# 'is_obstacle' 列の '障芝' を1に置き換え、Nanに0埋め\n",
    "race_df['is_obstacle'] = race_df['is_obstacle'].replace('障', 1)\n",
    "race_df.fillna(value={'is_obstacle': 0}, inplace=True)"
   ]
  },
  {
   "cell_type": "code",
   "execution_count": 19,
   "metadata": {},
   "outputs": [
    {
     "name": "stdout",
     "output_type": "stream",
     "text": [
      "is_obstacle: [0. 1.]\n",
      "ground_type: ['ダ' '芝']\n",
      "is_left_right_straight: ['右' nan '左' '直線']\n",
      "distance isnull sum: 0\n"
     ]
    }
   ],
   "source": [
    "print(\"is_obstacle:\", race_df[\"is_obstacle\"].unique())\n",
    "print(\"ground_type:\", race_df[\"ground_type\"].unique())\n",
    "print(\"is_left_right_straight:\", race_df[\"is_left_right_straight\"].unique())\n",
    "print(\"distance isnull sum:\", race_df[\"distance\"].isnull().sum())"
   ]
  },
  {
   "cell_type": "code",
   "execution_count": 20,
   "metadata": {},
   "outputs": [],
   "source": [
    "# もともとのカラムは不要なので削除\n",
    "race_df.drop(['race_course'], axis=1, inplace=True)"
   ]
  },
  {
   "cell_type": "code",
   "execution_count": 21,
   "metadata": {},
   "outputs": [],
   "source": [
    "race_df[\"distance\"] = race_df[\"distance\"].astype(int)"
   ]
  },
  {
   "cell_type": "markdown",
   "metadata": {},
   "source": [
    "### weather\n",
    "そのままone_hotエンコーディングしてデータを食わせても良さそうだが...\n",
    "\n",
    "余分な文字列を取り除く。\n",
    "\n",
    "また、少雨よりも雨が強いはず、小雪よりも雪が強いはず。これらの単純な雨量は別のデータを取ってこないと分からないが、大小関係は情報として入れられるはず。"
   ]
  },
  {
   "cell_type": "code",
   "execution_count": 22,
   "metadata": {},
   "outputs": [
    {
     "data": {
      "text/plain": [
       "array(['天候 : 晴', '天候 : 雨', '天候 : 曇', '天候 : 小雨', '天候 : 小雪', '天候 : 雪'],\n",
       "      dtype=object)"
      ]
     },
     "execution_count": 22,
     "metadata": {},
     "output_type": "execute_result"
    }
   ],
   "source": [
    "race_df[\"weather\"].unique()"
   ]
  },
  {
   "cell_type": "code",
   "execution_count": 23,
   "metadata": {},
   "outputs": [],
   "source": [
    "race_df['weather'] = race_df['weather'].str.strip('天候 :')"
   ]
  },
  {
   "cell_type": "code",
   "execution_count": 24,
   "metadata": {},
   "outputs": [
    {
     "data": {
      "text/plain": [
       "array(['晴', '雨', '曇', '小雨', '小雪', '雪'], dtype=object)"
      ]
     },
     "execution_count": 24,
     "metadata": {},
     "output_type": "execute_result"
    }
   ],
   "source": [
    "race_df[\"weather\"].unique()"
   ]
  },
  {
   "cell_type": "code",
   "execution_count": 25,
   "metadata": {},
   "outputs": [],
   "source": [
    "weather_rain = race_df[\"weather\"].str.extract('(小雨|雨)', expand=True)\n",
    "weather_snow = race_df[\"weather\"].str.extract('(小雪|雪)', expand=True)\n",
    "weather_rain.columns ={\"weather_rain\"}\n",
    "weather_snow.columns ={\"weather_snow\"}\n",
    "race_df = pd.concat([race_df, weather_rain], axis=1)\n",
    "race_df = pd.concat([race_df, weather_snow], axis=1)\n",
    "\n",
    "race_df.fillna(value={'weather_rain': 0}, inplace=True)\n",
    "race_df['weather_rain'] = race_df['weather_rain'].replace('小雨', 1)\n",
    "race_df['weather_rain'] = race_df['weather_rain'].replace('雨', 2)\n",
    "race_df.fillna(value={'weather_snow': 0}, inplace=True)\n",
    "race_df['weather_snow'] = race_df['weather_snow'].replace('小雪', 1)\n",
    "race_df['weather_snow'] = race_df['weather_snow'].replace('雪', 2)"
   ]
  },
  {
   "cell_type": "code",
   "execution_count": 26,
   "metadata": {},
   "outputs": [
    {
     "name": "stdout",
     "output_type": "stream",
     "text": [
      "weather_rain: 0    37593\n",
      "2     2094\n",
      "1     1454\n",
      "Name: weather_rain, dtype: int64\n",
      "weather_snow: 0    41073\n",
      "1       49\n",
      "2       19\n",
      "Name: weather_snow, dtype: int64\n"
     ]
    }
   ],
   "source": [
    "print(\"weather_rain:\", race_df[\"weather_rain\"].value_counts())\n",
    "print(\"weather_snow:\", race_df[\"weather_snow\"].value_counts())"
   ]
  },
  {
   "cell_type": "code",
   "execution_count": null,
   "metadata": {},
   "outputs": [],
   "source": []
  },
  {
   "cell_type": "markdown",
   "metadata": {},
   "source": [
    "### ground_status\n",
    "芝かダートかは既に別カラムにあるので、状態を見る。\n",
    "大小関係があるので数値として。"
   ]
  },
  {
   "cell_type": "code",
   "execution_count": 27,
   "metadata": {},
   "outputs": [
    {
     "data": {
      "text/plain": [
       "array(['ダート : 良', 'ダート : 不良', '芝 : 良', '芝 : 重', 'ダート : 稍重', '芝 : 稍重',\n",
       "       '芝 : 良\\xa0\\xa0ダート : 良', '芝 : 不良', 'ダート : 重',\n",
       "       '芝 : 稍重\\xa0\\xa0ダート : 重', '芝 : 良\\xa0\\xa0ダート : 稍重',\n",
       "       '芝 : 良\\xa0\\xa0ダート : 不良', '芝 : 重\\xa0\\xa0ダート : 不良',\n",
       "       '芝 : 稍重\\xa0\\xa0ダート : 稍重', '芝 : 稍重\\xa0\\xa0ダート : 不良',\n",
       "       '芝 : 重\\xa0\\xa0ダート : 重', '芝 : 良\\xa0\\xa0ダート : 重',\n",
       "       '芝 : 不良\\xa0\\xa0ダート : 不良'], dtype=object)"
      ]
     },
     "execution_count": 27,
     "metadata": {},
     "output_type": "execute_result"
    }
   ],
   "source": [
    "race_df[\"ground_status\"].unique()"
   ]
  },
  {
   "cell_type": "code",
   "execution_count": 28,
   "metadata": {},
   "outputs": [],
   "source": [
    "race_df['ground_status'] = race_df['ground_status'].replace('.*(稍重).*', 4,regex=True)\n",
    "race_df['ground_status'] = race_df['ground_status'].replace('.*(重).*', 3,regex=True)\n",
    "race_df['ground_status'] = race_df['ground_status'].replace('.*(不良).*', 2,regex=True)\n",
    "race_df['ground_status'] = race_df['ground_status'].replace('.*(良).*', 1,regex=True)\n"
   ]
  },
  {
   "cell_type": "code",
   "execution_count": 29,
   "metadata": {},
   "outputs": [
    {
     "name": "stdout",
     "output_type": "stream",
     "text": [
      "ground_status: 1    29521\n",
      "4     6543\n",
      "3     3361\n",
      "2     1716\n",
      "Name: ground_status, dtype: int64\n"
     ]
    }
   ],
   "source": [
    "print(\"ground_status:\", race_df[\"ground_status\"].value_counts())"
   ]
  },
  {
   "cell_type": "markdown",
   "metadata": {},
   "source": [
    "### time と dateをあわせてdatetimeに"
   ]
  },
  {
   "cell_type": "code",
   "execution_count": 30,
   "metadata": {},
   "outputs": [],
   "source": [
    "race_df[\"time\"] = race_df[\"time\"].str.replace('発走 : (\\d\\d):(\\d\\d)(.|\\n)*', r'\\1時\\2分')"
   ]
  },
  {
   "cell_type": "code",
   "execution_count": 31,
   "metadata": {},
   "outputs": [],
   "source": [
    "race_df[\"date\"] = race_df[\"date\"] + race_df[\"time\"]"
   ]
  },
  {
   "cell_type": "code",
   "execution_count": 32,
   "metadata": {},
   "outputs": [],
   "source": [
    "race_df[\"date\"] = pd.to_datetime(race_df['date'], format='%Y年%m月%d日%H時%M分')"
   ]
  },
  {
   "cell_type": "code",
   "execution_count": 33,
   "metadata": {},
   "outputs": [],
   "source": [
    "# もともとのtimeは不要なので削除\n",
    "race_df.drop(['time'], axis=1, inplace=True)"
   ]
  },
  {
   "cell_type": "code",
   "execution_count": 34,
   "metadata": {},
   "outputs": [
    {
     "name": "stdout",
     "output_type": "stream",
     "text": [
      "datetime64[ns]\n",
      "date isnull sum: 0\n"
     ]
    }
   ],
   "source": [
    "print(race_df[\"date\"].dtype)\n",
    "print(\"date isnull sum:\", race_df[\"date\"].isnull().sum())"
   ]
  },
  {
   "cell_type": "markdown",
   "metadata": {},
   "source": [
    "### where_racecourse\n",
    "例:1回小倉3日目 の中から小倉を取り出す"
   ]
  },
  {
   "cell_type": "code",
   "execution_count": 35,
   "metadata": {},
   "outputs": [],
   "source": [
    "race_df[\"where_racecourse\"] = race_df[\"where_racecourse\"].str.replace('\\d*回(..)\\d*日目', r'\\1')\n"
   ]
  },
  {
   "cell_type": "code",
   "execution_count": 38,
   "metadata": {},
   "outputs": [
    {
     "data": {
      "text/plain": [
       "array(['京都', '中山', '小倉', '東京', '阪神', '中京', '福島', '新潟', '函館', '札幌'],\n",
       "      dtype=object)"
      ]
     },
     "execution_count": 38,
     "metadata": {},
     "output_type": "execute_result"
    }
   ],
   "source": [
    "# 確認\n",
    "race_df[\"where_racecourse\"].unique()"
   ]
  },
  {
   "cell_type": "markdown",
   "metadata": {},
   "source": [
    "###  馬の数や順位\n",
    "- total_horse_number                 int64\n",
    "- frame_number_first                 int64\n",
    "- horse_number_first                 int64\n",
    "- frame_number_second                int64\n",
    "- horse_number_second                int64\n",
    "- frame_number_third                 int64\n",
    "- horse_number_third                 int64\n",
    "\n",
    "これらはそのままでOK"
   ]
  },
  {
   "cell_type": "markdown",
   "metadata": {},
   "source": [
    "### オッズから余分な「,」を除く\n",
    "- tansyo                            object\n",
    "- hukuren_first                     object\n",
    "- hukuren_second                    object\n",
    "- hukuren_third                     object\n",
    "- renhuku3                          object\n",
    "- rentan3                           object\n",
    "\n",
    "数値と文字列が混在しているので面倒\n",
    "```\n",
    "race_df['tansyo'] = race_df['tansyo'].str.strip(',')\n",
    "```\n",
    "などとしてもだめ"
   ]
  },
  {
   "cell_type": "code",
   "execution_count": 39,
   "metadata": {},
   "outputs": [
    {
     "data": {
      "text/plain": [
       "Index(['race_id', 'race_round', 'race_title', 'weather', 'ground_status',\n",
       "       'date', 'where_racecourse', 'total_horse_number', 'frame_number_first',\n",
       "       'horse_number_first', 'frame_number_second', 'horse_number_second',\n",
       "       'frame_number_third', 'horse_number_third', 'tansyo', 'hukusyo_first',\n",
       "       'hukusyo_second', 'hukusyo_third', 'wakuren', 'umaren', 'wide_1_2',\n",
       "       'wide_1_3', 'wide_2_3', 'umatan', 'renhuku3', 'rentan3', 'is_obstacle',\n",
       "       'ground_type', 'is_left_right_straight', 'distance', 'weather_rain',\n",
       "       'weather_snow'],\n",
       "      dtype='object')"
      ]
     },
     "execution_count": 39,
     "metadata": {},
     "output_type": "execute_result"
    }
   ],
   "source": [
    "race_df.columns"
   ]
  },
  {
   "cell_type": "code",
   "execution_count": 40,
   "metadata": {},
   "outputs": [],
   "source": [
    "race_df['tansyo'] = race_df['tansyo'].apply(lambda x: int(x.replace(\",\", \"\")) if type(x) is str else int(x))\n",
    "race_df['hukusyo_first'] = race_df['hukusyo_first'].apply(lambda x: int(x.replace(\",\", \"\")) if type(x) is str else int(x))\n",
    "race_df['hukusyo_second'] = race_df['hukusyo_second'].apply(lambda x: int(x.replace(\",\", \"\")) if type(x) is str else int(x))\n",
    "race_df['hukusyo_third'] = race_df['hukusyo_third'].apply(lambda x: int(x.replace(\",\", \"\")) if type(x) is str else int(x))\n",
    "race_df['wakuren'] = race_df['wakuren'].apply(lambda x: int(x.replace(\",\", \"\")) if type(x) is str else int(x))\n",
    "race_df['umaren'] = race_df['umaren'].apply(lambda x: int(x.replace(\",\", \"\")) if type(x) is str else int(x))\n",
    "race_df['wide_1_2'] = race_df['wide_1_2'].apply(lambda x: int(x.replace(\",\", \"\")) if type(x) is str else int(x))\n",
    "race_df['wide_1_3'] = race_df['wide_1_3'].apply(lambda x: int(x.replace(\",\", \"\")) if type(x) is str else int(x))\n",
    "race_df['wide_2_3'] = race_df['wide_2_3'].apply(lambda x: int(x.replace(\",\", \"\")) if type(x) is str else int(x))\n",
    "race_df['umatan'] = race_df['umatan'].apply(lambda x: int(x.replace(\",\", \"\")) if type(x) is str else int(x))\n",
    "race_df['renhuku3'] = race_df['renhuku3'].apply(lambda x: int(x.replace(\",\", \"\")) if type(x) is str else int(x))\n",
    "race_df['rentan3'] = race_df['rentan3'].apply(lambda x: int(x.replace(\",\", \"\")) if type(x) is str else int(x))\n"
   ]
  },
  {
   "cell_type": "code",
   "execution_count": 41,
   "metadata": {},
   "outputs": [
    {
     "data": {
      "text/html": [
       "<div>\n",
       "<style scoped>\n",
       "    .dataframe tbody tr th:only-of-type {\n",
       "        vertical-align: middle;\n",
       "    }\n",
       "\n",
       "    .dataframe tbody tr th {\n",
       "        vertical-align: top;\n",
       "    }\n",
       "\n",
       "    .dataframe thead th {\n",
       "        text-align: right;\n",
       "    }\n",
       "</style>\n",
       "<table border=\"1\" class=\"dataframe\">\n",
       "  <thead>\n",
       "    <tr style=\"text-align: right;\">\n",
       "      <th></th>\n",
       "      <th>race_id</th>\n",
       "      <th>race_round</th>\n",
       "      <th>race_title</th>\n",
       "      <th>weather</th>\n",
       "      <th>ground_status</th>\n",
       "      <th>date</th>\n",
       "      <th>where_racecourse</th>\n",
       "      <th>total_horse_number</th>\n",
       "      <th>frame_number_first</th>\n",
       "      <th>horse_number_first</th>\n",
       "      <th>frame_number_second</th>\n",
       "      <th>horse_number_second</th>\n",
       "      <th>frame_number_third</th>\n",
       "      <th>horse_number_third</th>\n",
       "      <th>tansyo</th>\n",
       "      <th>hukusyo_first</th>\n",
       "      <th>hukusyo_second</th>\n",
       "      <th>hukusyo_third</th>\n",
       "      <th>wakuren</th>\n",
       "      <th>umaren</th>\n",
       "      <th>wide_1_2</th>\n",
       "      <th>wide_1_3</th>\n",
       "      <th>wide_2_3</th>\n",
       "      <th>umatan</th>\n",
       "      <th>renhuku3</th>\n",
       "      <th>rentan3</th>\n",
       "      <th>is_obstacle</th>\n",
       "      <th>ground_type</th>\n",
       "      <th>is_left_right_straight</th>\n",
       "      <th>distance</th>\n",
       "      <th>weather_rain</th>\n",
       "      <th>weather_snow</th>\n",
       "    </tr>\n",
       "  </thead>\n",
       "  <tbody>\n",
       "    <tr>\n",
       "      <th>90</th>\n",
       "      <td>200808010709</td>\n",
       "      <td>9</td>\n",
       "      <td>若駒ステークス</td>\n",
       "      <td>曇</td>\n",
       "      <td>1</td>\n",
       "      <td>2008-01-26 14:35:00</td>\n",
       "      <td>京都</td>\n",
       "      <td>9</td>\n",
       "      <td>3</td>\n",
       "      <td>3</td>\n",
       "      <td>8</td>\n",
       "      <td>8</td>\n",
       "      <td>2</td>\n",
       "      <td>2</td>\n",
       "      <td>360270</td>\n",
       "      <td>190</td>\n",
       "      <td>150</td>\n",
       "      <td>110</td>\n",
       "      <td>1760</td>\n",
       "      <td>1640</td>\n",
       "      <td>510</td>\n",
       "      <td>270</td>\n",
       "      <td>200</td>\n",
       "      <td>17101650</td>\n",
       "      <td>1040</td>\n",
       "      <td>41503910</td>\n",
       "      <td>0.0</td>\n",
       "      <td>芝</td>\n",
       "      <td>右</td>\n",
       "      <td>2000</td>\n",
       "      <td>0</td>\n",
       "      <td>0</td>\n",
       "    </tr>\n",
       "  </tbody>\n",
       "</table>\n",
       "</div>"
      ],
      "text/plain": [
       "         race_id  race_round race_title weather  ground_status  \\\n",
       "90  200808010709           9   若駒ステークス        曇              1   \n",
       "\n",
       "                  date where_racecourse  total_horse_number  \\\n",
       "90 2008-01-26 14:35:00               京都                   9   \n",
       "\n",
       "    frame_number_first  horse_number_first  frame_number_second  \\\n",
       "90                   3                   3                    8   \n",
       "\n",
       "    horse_number_second  frame_number_third  horse_number_third  tansyo  \\\n",
       "90                    8                   2                   2  360270   \n",
       "\n",
       "    hukusyo_first  hukusyo_second  hukusyo_third  wakuren  umaren  wide_1_2  \\\n",
       "90            190             150            110     1760    1640       510   \n",
       "\n",
       "    wide_1_3  wide_2_3    umatan  renhuku3   rentan3  is_obstacle ground_type  \\\n",
       "90       270       200  17101650      1040  41503910          0.0           芝   \n",
       "\n",
       "   is_left_right_straight  distance  weather_rain  weather_snow  \n",
       "90                      右      2000             0             0  "
      ]
     },
     "execution_count": 41,
     "metadata": {},
     "output_type": "execute_result"
    }
   ],
   "source": [
    "race_df[race_df['race_id']==200808010709]"
   ]
  },
  {
   "cell_type": "code",
   "execution_count": 42,
   "metadata": {},
   "outputs": [
    {
     "name": "stdout",
     "output_type": "stream",
     "text": [
      "dataframeの各列のデータ型を確認==>\n",
      " race_id                           object\n",
      "race_round                         int64\n",
      "race_title                        object\n",
      "weather                           object\n",
      "ground_status                      int64\n",
      "date                      datetime64[ns]\n",
      "where_racecourse                  object\n",
      "total_horse_number                 int64\n",
      "frame_number_first                 int64\n",
      "horse_number_first                 int64\n",
      "frame_number_second                int64\n",
      "horse_number_second                int64\n",
      "frame_number_third                 int64\n",
      "horse_number_third                 int64\n",
      "tansyo                             int64\n",
      "hukusyo_first                      int64\n",
      "hukusyo_second                     int64\n",
      "hukusyo_third                      int64\n",
      "wakuren                            int64\n",
      "umaren                             int64\n",
      "wide_1_2                           int64\n",
      "wide_1_3                           int64\n",
      "wide_2_3                           int64\n",
      "umatan                             int64\n",
      "renhuku3                           int64\n",
      "rentan3                            int64\n",
      "is_obstacle                      float64\n",
      "ground_type                       object\n",
      "is_left_right_straight            object\n",
      "distance                           int64\n",
      "weather_rain                       int64\n",
      "weather_snow                       int64\n",
      "dtype: object\n"
     ]
    },
    {
     "data": {
      "text/html": [
       "<div>\n",
       "<style scoped>\n",
       "    .dataframe tbody tr th:only-of-type {\n",
       "        vertical-align: middle;\n",
       "    }\n",
       "\n",
       "    .dataframe tbody tr th {\n",
       "        vertical-align: top;\n",
       "    }\n",
       "\n",
       "    .dataframe thead th {\n",
       "        text-align: right;\n",
       "    }\n",
       "</style>\n",
       "<table border=\"1\" class=\"dataframe\">\n",
       "  <thead>\n",
       "    <tr style=\"text-align: right;\">\n",
       "      <th></th>\n",
       "      <th>race_id</th>\n",
       "      <th>race_round</th>\n",
       "      <th>race_title</th>\n",
       "      <th>weather</th>\n",
       "      <th>ground_status</th>\n",
       "      <th>date</th>\n",
       "      <th>where_racecourse</th>\n",
       "      <th>total_horse_number</th>\n",
       "      <th>frame_number_first</th>\n",
       "      <th>horse_number_first</th>\n",
       "      <th>frame_number_second</th>\n",
       "      <th>horse_number_second</th>\n",
       "      <th>frame_number_third</th>\n",
       "      <th>horse_number_third</th>\n",
       "      <th>tansyo</th>\n",
       "      <th>hukusyo_first</th>\n",
       "      <th>hukusyo_second</th>\n",
       "      <th>hukusyo_third</th>\n",
       "      <th>wakuren</th>\n",
       "      <th>umaren</th>\n",
       "      <th>wide_1_2</th>\n",
       "      <th>wide_1_3</th>\n",
       "      <th>wide_2_3</th>\n",
       "      <th>umatan</th>\n",
       "      <th>renhuku3</th>\n",
       "      <th>rentan3</th>\n",
       "      <th>is_obstacle</th>\n",
       "      <th>ground_type</th>\n",
       "      <th>is_left_right_straight</th>\n",
       "      <th>distance</th>\n",
       "      <th>weather_rain</th>\n",
       "      <th>weather_snow</th>\n",
       "    </tr>\n",
       "  </thead>\n",
       "  <tbody>\n",
       "    <tr>\n",
       "      <th>0</th>\n",
       "      <td>200808010109</td>\n",
       "      <td>9</td>\n",
       "      <td>初夢ステークス</td>\n",
       "      <td>晴</td>\n",
       "      <td>1</td>\n",
       "      <td>2008-01-05 14:30:00</td>\n",
       "      <td>京都</td>\n",
       "      <td>16</td>\n",
       "      <td>8</td>\n",
       "      <td>15</td>\n",
       "      <td>2</td>\n",
       "      <td>3</td>\n",
       "      <td>7</td>\n",
       "      <td>13</td>\n",
       "      <td>250</td>\n",
       "      <td>120</td>\n",
       "      <td>410</td>\n",
       "      <td>140</td>\n",
       "      <td>1880</td>\n",
       "      <td>2550</td>\n",
       "      <td>930</td>\n",
       "      <td>230</td>\n",
       "      <td>850</td>\n",
       "      <td>3320</td>\n",
       "      <td>2330</td>\n",
       "      <td>13400</td>\n",
       "      <td>0.0</td>\n",
       "      <td>ダ</td>\n",
       "      <td>右</td>\n",
       "      <td>1200</td>\n",
       "      <td>0</td>\n",
       "      <td>0</td>\n",
       "    </tr>\n",
       "  </tbody>\n",
       "</table>\n",
       "</div>"
      ],
      "text/plain": [
       "        race_id  race_round race_title weather  ground_status  \\\n",
       "0  200808010109           9   初夢ステークス        晴              1   \n",
       "\n",
       "                 date where_racecourse  total_horse_number  \\\n",
       "0 2008-01-05 14:30:00               京都                  16   \n",
       "\n",
       "   frame_number_first  horse_number_first  frame_number_second  \\\n",
       "0                   8                  15                    2   \n",
       "\n",
       "   horse_number_second  frame_number_third  horse_number_third  tansyo  \\\n",
       "0                    3                   7                  13     250   \n",
       "\n",
       "   hukusyo_first  hukusyo_second  hukusyo_third  wakuren  umaren  wide_1_2  \\\n",
       "0            120             410            140     1880    2550       930   \n",
       "\n",
       "   wide_1_3  wide_2_3  umatan  renhuku3  rentan3  is_obstacle ground_type  \\\n",
       "0       230       850    3320      2330    13400          0.0           ダ   \n",
       "\n",
       "  is_left_right_straight  distance  weather_rain  weather_snow  \n",
       "0                      右      1200             0             0  "
      ]
     },
     "execution_count": 42,
     "metadata": {},
     "output_type": "execute_result"
    }
   ],
   "source": [
    "# 確認\n",
    "race_df['race_id'] = race_df['race_id'].astype(str)\n",
    "#race_df['race_title'] = race_df['race_title'].astype(str)\n",
    "print('dataframeの各列のデータ型を確認==>\\n', race_df.dtypes)\n",
    "\n",
    "\n",
    "race_df.head(1)"
   ]
  },
  {
   "cell_type": "markdown",
   "metadata": {},
   "source": [
    "### race dataの保存"
   ]
  },
  {
   "cell_type": "code",
   "execution_count": 43,
   "metadata": {},
   "outputs": [],
   "source": [
    "race_df.to_csv(\"csv/cleaned_race_data.csv\", index=False )"
   ]
  },
  {
   "cell_type": "markdown",
   "metadata": {},
   "source": [
    "## horse data の整形"
   ]
  },
  {
   "cell_type": "code",
   "execution_count": 44,
   "metadata": {},
   "outputs": [
    {
     "name": "stdout",
     "output_type": "stream",
     "text": [
      "(591645, 20)\n",
      "race_id            int64\n",
      "rank              object\n",
      "frame_number       int64\n",
      "horse_number       int64\n",
      "horse_id           int64\n",
      "horse_name        object\n",
      "sex_and_age       object\n",
      "burden_weight    float64\n",
      "rider_id           int64\n",
      "goal_time         object\n",
      "goal_time_dif     object\n",
      "time_value        object\n",
      "half_way_rank     object\n",
      "last_time        float64\n",
      "odds              object\n",
      "popular          float64\n",
      "horse_weight      object\n",
      "tame_time         object\n",
      "tamer_id           int64\n",
      "owner_id          object\n",
      "dtype: object\n"
     ]
    },
    {
     "data": {
      "text/html": [
       "<div>\n",
       "<style scoped>\n",
       "    .dataframe tbody tr th:only-of-type {\n",
       "        vertical-align: middle;\n",
       "    }\n",
       "\n",
       "    .dataframe tbody tr th {\n",
       "        vertical-align: top;\n",
       "    }\n",
       "\n",
       "    .dataframe thead th {\n",
       "        text-align: right;\n",
       "    }\n",
       "</style>\n",
       "<table border=\"1\" class=\"dataframe\">\n",
       "  <thead>\n",
       "    <tr style=\"text-align: right;\">\n",
       "      <th></th>\n",
       "      <th>race_id</th>\n",
       "      <th>rank</th>\n",
       "      <th>frame_number</th>\n",
       "      <th>horse_number</th>\n",
       "      <th>horse_id</th>\n",
       "      <th>horse_name</th>\n",
       "      <th>sex_and_age</th>\n",
       "      <th>burden_weight</th>\n",
       "      <th>rider_id</th>\n",
       "      <th>goal_time</th>\n",
       "      <th>goal_time_dif</th>\n",
       "      <th>time_value</th>\n",
       "      <th>half_way_rank</th>\n",
       "      <th>last_time</th>\n",
       "      <th>odds</th>\n",
       "      <th>popular</th>\n",
       "      <th>horse_weight</th>\n",
       "      <th>tame_time</th>\n",
       "      <th>tamer_id</th>\n",
       "      <th>owner_id</th>\n",
       "    </tr>\n",
       "  </thead>\n",
       "  <tbody>\n",
       "    <tr>\n",
       "      <th>0</th>\n",
       "      <td>200808010109</td>\n",
       "      <td>1</td>\n",
       "      <td>8</td>\n",
       "      <td>15</td>\n",
       "      <td>2003106135</td>\n",
       "      <td>レキシントンシチー</td>\n",
       "      <td>牡5</td>\n",
       "      <td>57.0</td>\n",
       "      <td>666</td>\n",
       "      <td>1:10.8</td>\n",
       "      <td>NaN</td>\n",
       "      <td>\\n\\n**\\n\\n</td>\n",
       "      <td>1-1</td>\n",
       "      <td>36.1</td>\n",
       "      <td>2.5</td>\n",
       "      <td>1.0</td>\n",
       "      <td>498(+2)</td>\n",
       "      <td>\\n\\n</td>\n",
       "      <td>429</td>\n",
       "      <td>321800</td>\n",
       "    </tr>\n",
       "    <tr>\n",
       "      <th>1</th>\n",
       "      <td>200808010109</td>\n",
       "      <td>2</td>\n",
       "      <td>2</td>\n",
       "      <td>3</td>\n",
       "      <td>2003103517</td>\n",
       "      <td>カシノエスケイプ</td>\n",
       "      <td>牝5</td>\n",
       "      <td>55.0</td>\n",
       "      <td>1111</td>\n",
       "      <td>1:11.1</td>\n",
       "      <td>2</td>\n",
       "      <td>\\n\\n**\\n\\n</td>\n",
       "      <td>10-10</td>\n",
       "      <td>35.4</td>\n",
       "      <td>24.0</td>\n",
       "      <td>8.0</td>\n",
       "      <td>502(+2)</td>\n",
       "      <td>\\n\\n</td>\n",
       "      <td>398</td>\n",
       "      <td>514009</td>\n",
       "    </tr>\n",
       "  </tbody>\n",
       "</table>\n",
       "</div>"
      ],
      "text/plain": [
       "        race_id rank  frame_number  horse_number    horse_id horse_name  \\\n",
       "0  200808010109    1             8            15  2003106135  レキシントンシチー   \n",
       "1  200808010109    2             2             3  2003103517   カシノエスケイプ   \n",
       "\n",
       "  sex_and_age  burden_weight rider_id goal_time goal_time_dif  time_value  \\\n",
       "0          牡5           57.0      666    1:10.8           NaN  \\n\\n**\\n\\n   \n",
       "1          牝5           55.0     1111    1:11.1             2  \\n\\n**\\n\\n   \n",
       "\n",
       "  half_way_rank  last_time  odds  popular horse_weight tame_time tamer_id  \\\n",
       "0           1-1       36.1   2.5      1.0      498(+2)      \\n\\n      429   \n",
       "1         10-10       35.4  24.0      8.0      502(+2)      \\n\\n      398   \n",
       "\n",
       "  owner_id  \n",
       "0   321800  \n",
       "1   514009  "
      ]
     },
     "execution_count": 44,
     "metadata": {},
     "output_type": "execute_result"
    }
   ],
   "source": [
    "print(horse_df.shape)\n",
    "print(horse_df.dtypes)\n",
    "horse_df['race_id'] = horse_df['race_id'].astype(str)\n",
    "horse_df['horse_id'] = horse_df['horse_id'].astype(str)\n",
    "horse_df['tamer_id'] = horse_df['tamer_id'].astype(str)\n",
    "horse_df['owner_id'] = horse_df['owner_id'].astype(str)\n",
    "horse_df['rider_id'] = horse_df['rider_id'].astype(str)\n",
    "\n",
    "horse_df.head(2)"
   ]
  },
  {
   "cell_type": "code",
   "execution_count": null,
   "metadata": {},
   "outputs": [],
   "source": []
  },
  {
   "cell_type": "code",
   "execution_count": 45,
   "metadata": {},
   "outputs": [
    {
     "data": {
      "text/html": [
       "<div>\n",
       "<style scoped>\n",
       "    .dataframe tbody tr th:only-of-type {\n",
       "        vertical-align: middle;\n",
       "    }\n",
       "\n",
       "    .dataframe tbody tr th {\n",
       "        vertical-align: top;\n",
       "    }\n",
       "\n",
       "    .dataframe thead th {\n",
       "        text-align: right;\n",
       "    }\n",
       "</style>\n",
       "<table border=\"1\" class=\"dataframe\">\n",
       "  <thead>\n",
       "    <tr style=\"text-align: right;\">\n",
       "      <th></th>\n",
       "      <th>race_id</th>\n",
       "      <th>rank</th>\n",
       "      <th>frame_number</th>\n",
       "      <th>horse_number</th>\n",
       "      <th>horse_id</th>\n",
       "      <th>horse_name</th>\n",
       "      <th>sex_and_age</th>\n",
       "      <th>burden_weight</th>\n",
       "      <th>rider_id</th>\n",
       "      <th>goal_time</th>\n",
       "      <th>goal_time_dif</th>\n",
       "      <th>time_value</th>\n",
       "      <th>half_way_rank</th>\n",
       "      <th>last_time</th>\n",
       "      <th>odds</th>\n",
       "      <th>popular</th>\n",
       "      <th>horse_weight</th>\n",
       "      <th>tame_time</th>\n",
       "      <th>tamer_id</th>\n",
       "      <th>owner_id</th>\n",
       "      <th>date</th>\n",
       "    </tr>\n",
       "  </thead>\n",
       "  <tbody>\n",
       "    <tr>\n",
       "      <th>0</th>\n",
       "      <td>200808010109</td>\n",
       "      <td>1</td>\n",
       "      <td>8</td>\n",
       "      <td>15</td>\n",
       "      <td>2003106135</td>\n",
       "      <td>レキシントンシチー</td>\n",
       "      <td>牡5</td>\n",
       "      <td>57.0</td>\n",
       "      <td>666</td>\n",
       "      <td>1:10.8</td>\n",
       "      <td>NaN</td>\n",
       "      <td>\\n\\n**\\n\\n</td>\n",
       "      <td>1-1</td>\n",
       "      <td>36.1</td>\n",
       "      <td>2.5</td>\n",
       "      <td>1.0</td>\n",
       "      <td>498(+2)</td>\n",
       "      <td>\\n\\n</td>\n",
       "      <td>429</td>\n",
       "      <td>321800</td>\n",
       "      <td>2008-01-05 14:30:00</td>\n",
       "    </tr>\n",
       "    <tr>\n",
       "      <th>1</th>\n",
       "      <td>200808010109</td>\n",
       "      <td>2</td>\n",
       "      <td>2</td>\n",
       "      <td>3</td>\n",
       "      <td>2003103517</td>\n",
       "      <td>カシノエスケイプ</td>\n",
       "      <td>牝5</td>\n",
       "      <td>55.0</td>\n",
       "      <td>1111</td>\n",
       "      <td>1:11.1</td>\n",
       "      <td>2</td>\n",
       "      <td>\\n\\n**\\n\\n</td>\n",
       "      <td>10-10</td>\n",
       "      <td>35.4</td>\n",
       "      <td>24.0</td>\n",
       "      <td>8.0</td>\n",
       "      <td>502(+2)</td>\n",
       "      <td>\\n\\n</td>\n",
       "      <td>398</td>\n",
       "      <td>514009</td>\n",
       "      <td>2008-01-05 14:30:00</td>\n",
       "    </tr>\n",
       "    <tr>\n",
       "      <th>2</th>\n",
       "      <td>200808010109</td>\n",
       "      <td>3</td>\n",
       "      <td>7</td>\n",
       "      <td>13</td>\n",
       "      <td>2003106389</td>\n",
       "      <td>ナリタジューン</td>\n",
       "      <td>牝5</td>\n",
       "      <td>55.0</td>\n",
       "      <td>945</td>\n",
       "      <td>1:11.3</td>\n",
       "      <td>1.1/4</td>\n",
       "      <td>\\n\\n**\\n\\n</td>\n",
       "      <td>2-2</td>\n",
       "      <td>36.5</td>\n",
       "      <td>4.7</td>\n",
       "      <td>2.0</td>\n",
       "      <td>452(+8)</td>\n",
       "      <td>\\n\\n</td>\n",
       "      <td>1073</td>\n",
       "      <td>712800</td>\n",
       "      <td>2008-01-05 14:30:00</td>\n",
       "    </tr>\n",
       "    <tr>\n",
       "      <th>3</th>\n",
       "      <td>200808010109</td>\n",
       "      <td>4</td>\n",
       "      <td>3</td>\n",
       "      <td>6</td>\n",
       "      <td>2001110109</td>\n",
       "      <td>ウォーターバロン</td>\n",
       "      <td>牡7</td>\n",
       "      <td>57.0</td>\n",
       "      <td>1006</td>\n",
       "      <td>1:11.4</td>\n",
       "      <td>1/2</td>\n",
       "      <td>\\n\\n**\\n\\n</td>\n",
       "      <td>5-6</td>\n",
       "      <td>36.3</td>\n",
       "      <td>60.5</td>\n",
       "      <td>13.0</td>\n",
       "      <td>514(-4)</td>\n",
       "      <td>\\n\\n</td>\n",
       "      <td>373</td>\n",
       "      <td>538009</td>\n",
       "      <td>2008-01-05 14:30:00</td>\n",
       "    </tr>\n",
       "    <tr>\n",
       "      <th>4</th>\n",
       "      <td>200808010109</td>\n",
       "      <td>5</td>\n",
       "      <td>3</td>\n",
       "      <td>5</td>\n",
       "      <td>2000100756</td>\n",
       "      <td>スターオブニルス</td>\n",
       "      <td>牡8</td>\n",
       "      <td>57.0</td>\n",
       "      <td>1019</td>\n",
       "      <td>1:11.5</td>\n",
       "      <td>クビ</td>\n",
       "      <td>\\n\\n**\\n\\n</td>\n",
       "      <td>8-8</td>\n",
       "      <td>36.1</td>\n",
       "      <td>49.6</td>\n",
       "      <td>11.0</td>\n",
       "      <td>514(+4)</td>\n",
       "      <td>\\n\\n</td>\n",
       "      <td>1038</td>\n",
       "      <td>972800</td>\n",
       "      <td>2008-01-05 14:30:00</td>\n",
       "    </tr>\n",
       "  </tbody>\n",
       "</table>\n",
       "</div>"
      ],
      "text/plain": [
       "        race_id rank  frame_number  horse_number    horse_id horse_name  \\\n",
       "0  200808010109    1             8            15  2003106135  レキシントンシチー   \n",
       "1  200808010109    2             2             3  2003103517   カシノエスケイプ   \n",
       "2  200808010109    3             7            13  2003106389    ナリタジューン   \n",
       "3  200808010109    4             3             6  2001110109   ウォーターバロン   \n",
       "4  200808010109    5             3             5  2000100756   スターオブニルス   \n",
       "\n",
       "  sex_and_age  burden_weight rider_id goal_time goal_time_dif  time_value  \\\n",
       "0          牡5           57.0      666    1:10.8           NaN  \\n\\n**\\n\\n   \n",
       "1          牝5           55.0     1111    1:11.1             2  \\n\\n**\\n\\n   \n",
       "2          牝5           55.0      945    1:11.3         1.1/4  \\n\\n**\\n\\n   \n",
       "3          牡7           57.0     1006    1:11.4           1/2  \\n\\n**\\n\\n   \n",
       "4          牡8           57.0     1019    1:11.5            クビ  \\n\\n**\\n\\n   \n",
       "\n",
       "  half_way_rank  last_time  odds  popular horse_weight tame_time tamer_id  \\\n",
       "0           1-1       36.1   2.5      1.0      498(+2)      \\n\\n      429   \n",
       "1         10-10       35.4  24.0      8.0      502(+2)      \\n\\n      398   \n",
       "2           2-2       36.5   4.7      2.0      452(+8)      \\n\\n     1073   \n",
       "3           5-6       36.3  60.5     13.0      514(-4)      \\n\\n      373   \n",
       "4           8-8       36.1  49.6     11.0      514(+4)      \\n\\n     1038   \n",
       "\n",
       "  owner_id                date  \n",
       "0   321800 2008-01-05 14:30:00  \n",
       "1   514009 2008-01-05 14:30:00  \n",
       "2   712800 2008-01-05 14:30:00  \n",
       "3   538009 2008-01-05 14:30:00  \n",
       "4   972800 2008-01-05 14:30:00  "
      ]
     },
     "execution_count": 45,
     "metadata": {},
     "output_type": "execute_result"
    }
   ],
   "source": [
    "# 何かとデータ分析で便利なので、レース日時情報をmerge\n",
    "race_tmp_df = race_df[[\"race_id\", \"date\"]]\n",
    "horse_df = pd.merge(horse_df, race_tmp_df, on='race_id')\n",
    "horse_df.head()"
   ]
  },
  {
   "cell_type": "markdown",
   "metadata": {},
   "source": [
    "### 使わなさそうな情報を削除\n",
    "- time_value, tame_time(プレミアム会員向けの情報)\n",
    "- goal_time_dif(自分で作成する)"
   ]
  },
  {
   "cell_type": "code",
   "execution_count": 46,
   "metadata": {},
   "outputs": [],
   "source": [
    "horse_df.drop(['time_value'], axis=1, inplace=True)\n",
    "horse_df.drop(['goal_time_dif'], axis=1, inplace=True)\n",
    "horse_df.drop(['tame_time'], axis=1, inplace=True)"
   ]
  },
  {
   "cell_type": "markdown",
   "metadata": {},
   "source": [
    "### race_id\n",
    "そのままでOK"
   ]
  },
  {
   "cell_type": "markdown",
   "metadata": {},
   "source": [
    "### rank\n",
    "> - 降着・・・\t「その走行妨害がなければ被害馬が加害馬に先着していた」と判断した場合、加害馬は被害馬の後ろに降着となります。\n",
    "> - 失格・・・\t「極めて悪質で他の騎手や馬に対する危険な行為によって、競走に重大な支障を生じさせた」と判断した場合、加害馬は失格となります。\n",
    "\n",
    "> 注記：被害馬が落馬や疾病発症等により競走を中止した場合には、上記の「失格」に該当しない限り着順は到達順位のとおり確定します。\n"
   ]
  },
  {
   "cell_type": "markdown",
   "metadata": {},
   "source": [
    "- 降格は降格フラグに分割、順位そのまま入れておく\n",
    "- 取・除はそもそも参加していないので削除\n",
    "- 失は順位が全く当てにならないので情報を削除\n",
    "- 中は最後まで到達していないが参加はしている。ひとまず20位にしておく。goal_timeが無いので、大きめに取る必要がある。\n",
    "- 12(再)は12で最後の模様。そのまま12にする"
   ]
  },
  {
   "cell_type": "code",
   "execution_count": 47,
   "metadata": {},
   "outputs": [
    {
     "data": {
      "text/html": [
       "<div>\n",
       "<style scoped>\n",
       "    .dataframe tbody tr th:only-of-type {\n",
       "        vertical-align: middle;\n",
       "    }\n",
       "\n",
       "    .dataframe tbody tr th {\n",
       "        vertical-align: top;\n",
       "    }\n",
       "\n",
       "    .dataframe thead th {\n",
       "        text-align: right;\n",
       "    }\n",
       "</style>\n",
       "<table border=\"1\" class=\"dataframe\">\n",
       "  <thead>\n",
       "    <tr style=\"text-align: right;\">\n",
       "      <th></th>\n",
       "      <th>race_id</th>\n",
       "      <th>rank</th>\n",
       "      <th>frame_number</th>\n",
       "      <th>horse_number</th>\n",
       "      <th>horse_id</th>\n",
       "      <th>horse_name</th>\n",
       "      <th>sex_and_age</th>\n",
       "      <th>burden_weight</th>\n",
       "      <th>rider_id</th>\n",
       "      <th>goal_time</th>\n",
       "      <th>half_way_rank</th>\n",
       "      <th>last_time</th>\n",
       "      <th>odds</th>\n",
       "      <th>popular</th>\n",
       "      <th>horse_weight</th>\n",
       "      <th>tamer_id</th>\n",
       "      <th>owner_id</th>\n",
       "      <th>date</th>\n",
       "    </tr>\n",
       "  </thead>\n",
       "  <tbody>\n",
       "    <tr>\n",
       "      <th>204880</th>\n",
       "      <td>201209010104</td>\n",
       "      <td>12(再)</td>\n",
       "      <td>5</td>\n",
       "      <td>6</td>\n",
       "      <td>2006101490</td>\n",
       "      <td>マーブルアロー</td>\n",
       "      <td>牡6</td>\n",
       "      <td>60.0</td>\n",
       "      <td>1072</td>\n",
       "      <td>3:55.2</td>\n",
       "      <td>9-9-10-12</td>\n",
       "      <td>15.8</td>\n",
       "      <td>45.6</td>\n",
       "      <td>9.0</td>\n",
       "      <td>502(-2)</td>\n",
       "      <td>1110</td>\n",
       "      <td>090006</td>\n",
       "      <td>2012-02-25 11:30:00</td>\n",
       "    </tr>\n",
       "  </tbody>\n",
       "</table>\n",
       "</div>"
      ],
      "text/plain": [
       "             race_id   rank  frame_number  horse_number    horse_id  \\\n",
       "204880  201209010104  12(再)             5             6  2006101490   \n",
       "\n",
       "       horse_name sex_and_age  burden_weight rider_id goal_time half_way_rank  \\\n",
       "204880    マーブルアロー          牡6           60.0     1072    3:55.2     9-9-10-12   \n",
       "\n",
       "        last_time  odds  popular horse_weight tamer_id owner_id  \\\n",
       "204880       15.8  45.6      9.0      502(-2)     1110   090006   \n",
       "\n",
       "                      date  \n",
       "204880 2012-02-25 11:30:00  "
      ]
     },
     "execution_count": 47,
     "metadata": {},
     "output_type": "execute_result"
    }
   ],
   "source": [
    "# 確認\n",
    "horse_df[horse_df['rank'] =='中'].sort_values('date').head(2)\n",
    "horse_df[horse_df['rank'] =='取'].sort_values('date').head(2)\n",
    "horse_df[horse_df['rank'] =='除'].sort_values('date').head(2)\n",
    "horse_df[horse_df['rank'] =='16(降)'].sort_values('date').head(2)\n",
    "horse_df[horse_df['rank'] =='12(再)'].sort_values('date').head(2)"
   ]
  },
  {
   "cell_type": "code",
   "execution_count": 48,
   "metadata": {},
   "outputs": [],
   "source": [
    "# 降格を別へ\n",
    "is_down = horse_df[\"rank\"].str.extract('(\\(降\\))', expand=True)\n",
    "is_down.columns ={\"is_down\"}\n",
    "horse_df = pd.concat([horse_df, is_down], axis=1)\n",
    "\n",
    "horse_df.fillna(value={'is_down': 0}, inplace=True)\n",
    "horse_df['is_down'] = horse_df['is_down'].replace('(降)', 1)\n",
    "\n",
    "## 余分な文字を削除\n",
    "horse_df['rank'] = horse_df['rank'].apply(lambda x: x.replace(\"(降)\", \"\"))\n",
    "horse_df['rank'] = horse_df['rank'].apply(lambda x: x.replace(\"(再)\", \"\"))"
   ]
  },
  {
   "cell_type": "code",
   "execution_count": 49,
   "metadata": {},
   "outputs": [],
   "source": [
    "\"\"\"- 取・除はそもそも参加していないので削除\n",
    "- 失は順位が全く当てにならないので情報を削除\n",
    "- 中は最後まで到達していないが参加はしている。ひとまず20位にしておく\"\"\"\n",
    "\n",
    "horse_df = horse_df[(horse_df['rank'] != \"取\") & (horse_df['rank'] != \"除\") & (horse_df['rank'] != \"失\")]\n",
    "horse_df['rank'] = pd.DataFrame(horse_df['rank'].mask(horse_df['rank'] == \"中\", 20))"
   ]
  },
  {
   "cell_type": "code",
   "execution_count": 50,
   "metadata": {},
   "outputs": [
    {
     "data": {
      "text/plain": [
       "1     41185\n",
       "2     41172\n",
       "3     41167\n",
       "5     41151\n",
       "4     41140\n",
       "6     41130\n",
       "7     41011\n",
       "8     40697\n",
       "9     39965\n",
       "10    38644\n",
       "11    36795\n",
       "12    34420\n",
       "13    31171\n",
       "14    27617\n",
       "15    23623\n",
       "16    17901\n",
       "17     4319\n",
       "18     3373\n",
       "20     2961\n",
       "Name: rank, dtype: int64"
      ]
     },
     "execution_count": 50,
     "metadata": {},
     "output_type": "execute_result"
    }
   ],
   "source": [
    "# 確認\n",
    "horse_df[\"rank\"].value_counts()"
   ]
  },
  {
   "cell_type": "markdown",
   "metadata": {},
   "source": [
    "### 姓と年齢をsplit"
   ]
  },
  {
   "cell_type": "code",
   "execution_count": 51,
   "metadata": {},
   "outputs": [
    {
     "data": {
      "text/plain": [
       "array(['牡5', '牝5', '牡7', '牡8', '牡6', '牝4', '牡4', 'セ4', '牝3', '牡3', '牝8',\n",
       "       'セ3', '牝7', '牡10', '牝6', 'セ7', '牡9', 'セ8', 'セ6', 'セ5', 'セ10', 'セ9',\n",
       "       '牡11', '牡12', '牝9', 'セ11', '牡2', '牝2', 'セ2', '牝10', '牡13', 'セ12'],\n",
       "      dtype=object)"
      ]
     },
     "execution_count": 51,
     "metadata": {},
     "output_type": "execute_result"
    }
   ],
   "source": [
    "horse_df['sex_and_age'].unique()"
   ]
  },
  {
   "cell_type": "code",
   "execution_count": 52,
   "metadata": {},
   "outputs": [],
   "source": [
    "# 性別を別へ\n",
    "\n",
    "is_senba = horse_df[\"sex_and_age\"].str.extract('(セ)', expand=True)\n",
    "is_senba.columns ={\"is_senba\"}\n",
    "horse_df = pd.concat([horse_df, is_senba], axis=1)\n",
    "\n",
    "is_mesu = horse_df[\"sex_and_age\"].str.extract('(牝)', expand=True)\n",
    "is_mesu.columns ={\"is_mesu\"}\n",
    "horse_df = pd.concat([horse_df, is_mesu], axis=1)\n",
    "\n",
    "is_osu = horse_df[\"sex_and_age\"].str.extract('(牡)', expand=True)\n",
    "is_osu.columns ={\"is_osu\"}\n",
    "horse_df = pd.concat([horse_df, is_osu], axis=1)\n"
   ]
  },
  {
   "cell_type": "code",
   "execution_count": 53,
   "metadata": {},
   "outputs": [],
   "source": [
    "horse_df.fillna(value={'is_osu': 0}, inplace=True)\n",
    "horse_df['is_osu'] = horse_df['is_osu'].replace('牡', 1)\n",
    "horse_df.fillna(value={'is_mesu': 0}, inplace=True)\n",
    "horse_df['is_mesu'] = horse_df['is_mesu'].replace('牝', 1)\n",
    "horse_df.fillna(value={'is_senba': 0}, inplace=True)\n",
    "horse_df['is_senba'] = horse_df['is_senba'].replace('セ', 1)\n",
    "## 余分な文字を削除\n",
    "horse_df['sex_and_age'] = horse_df['sex_and_age'].str.strip(\"牝牡セ\")\n",
    "horse_df['sex_and_age'] = horse_df['sex_and_age'].astype(int)"
   ]
  },
  {
   "cell_type": "code",
   "execution_count": 54,
   "metadata": {},
   "outputs": [],
   "source": [
    "horse_df = horse_df.rename(columns={'sex_and_age': 'age'})"
   ]
  },
  {
   "cell_type": "markdown",
   "metadata": {},
   "source": [
    "## goal_timeをtimedelta型にしてから秒に(last_timeも)"
   ]
  },
  {
   "cell_type": "code",
   "execution_count": 55,
   "metadata": {},
   "outputs": [
    {
     "name": "stdout",
     "output_type": "stream",
     "text": [
      "2961\n",
      "2966\n"
     ]
    }
   ],
   "source": [
    "# nullになるのは、レースで「中」になった馬\n",
    "print(horse_df['goal_time'].isnull().sum())\n",
    "print(horse_df['last_time'].isnull().sum())"
   ]
  },
  {
   "cell_type": "code",
   "execution_count": 56,
   "metadata": {},
   "outputs": [],
   "source": [
    "horse_df['goal_time'] = pd.to_datetime(horse_df['goal_time'], format='%M:%S.%f') - pd.to_datetime('00:00.0', format='%M:%S.%f')\n",
    "horse_df['goal_time'] = horse_df['goal_time'].dt.total_seconds()"
   ]
  },
  {
   "cell_type": "code",
   "execution_count": 57,
   "metadata": {},
   "outputs": [],
   "source": [
    "# 欠損値を最大値で埋める\n",
    "horse_df.fillna(value={'goal_time': horse_df['goal_time'].max()}, inplace=True)\n",
    "horse_df.fillna(value={'last_time': horse_df['last_time'].max()}, inplace=True)"
   ]
  },
  {
   "cell_type": "code",
   "execution_count": 58,
   "metadata": {},
   "outputs": [
    {
     "data": {
      "text/plain": [
       "race_id                  object\n",
       "rank                     object\n",
       "frame_number              int64\n",
       "horse_number              int64\n",
       "horse_id                 object\n",
       "horse_name               object\n",
       "age                       int64\n",
       "burden_weight           float64\n",
       "rider_id                 object\n",
       "goal_time               float64\n",
       "half_way_rank            object\n",
       "last_time               float64\n",
       "odds                     object\n",
       "popular                 float64\n",
       "horse_weight             object\n",
       "tamer_id                 object\n",
       "owner_id                 object\n",
       "date             datetime64[ns]\n",
       "is_down                   int64\n",
       "is_senba                  int64\n",
       "is_mesu                   int64\n",
       "is_osu                    int64\n",
       "dtype: object"
      ]
     },
     "execution_count": 58,
     "metadata": {},
     "output_type": "execute_result"
    }
   ],
   "source": [
    "horse_df.dtypes"
   ]
  },
  {
   "cell_type": "markdown",
   "metadata": {},
   "source": [
    "### goal_timeとレース距離から、平均速度を求める"
   ]
  },
  {
   "cell_type": "code",
   "execution_count": 59,
   "metadata": {},
   "outputs": [],
   "source": [
    "# レース距離情報をmerge\n",
    "race_tmp_df = race_df[[\"race_id\", \"distance\"]]\n",
    "horse_df = pd.merge(horse_df, race_tmp_df, on='race_id')"
   ]
  },
  {
   "cell_type": "code",
   "execution_count": 60,
   "metadata": {},
   "outputs": [],
   "source": [
    "horse_df[\"distance\"] = horse_df[\"distance\"].astype(int)\n",
    "# horse_df[\"avg_velocity\"] = horse_df[\"distance\"]/horse_df[\"goal_time\"]\n"
   ]
  },
  {
   "cell_type": "code",
   "execution_count": null,
   "metadata": {},
   "outputs": [],
   "source": []
  },
  {
   "cell_type": "markdown",
   "metadata": {},
   "source": [
    "### half_way_rank\n",
    "splitして平均値を保持する（レースによってまちまちなので）"
   ]
  },
  {
   "cell_type": "code",
   "execution_count": 61,
   "metadata": {},
   "outputs": [],
   "source": [
    "from statistics import mean\n",
    "horse_df[\"half_way_rank\"] = horse_df[\"half_way_rank\"].apply(lambda x: mean([float(n) for n in (x.split(\"-\"))]) if type(x) is str else float(x) )"
   ]
  },
  {
   "cell_type": "code",
   "execution_count": 62,
   "metadata": {},
   "outputs": [
    {
     "data": {
      "text/plain": [
       "0"
      ]
     },
     "execution_count": 62,
     "metadata": {},
     "output_type": "execute_result"
    }
   ],
   "source": [
    "horse_df[horse_df[\"rank\"] == 20] = horse_df[horse_df[\"rank\"] == 20].fillna({'half_way_rank': 20})\n",
    "horse_df[\"half_way_rank\"] = horse_df[\"half_way_rank\"].fillna(horse_df['half_way_rank'].mean())\n",
    "horse_df[\"half_way_rank\"].isnull().sum()"
   ]
  },
  {
   "cell_type": "code",
   "execution_count": 63,
   "metadata": {},
   "outputs": [],
   "source": [
    "horse_df[\"half_way_rank\"] = horse_df[\"half_way_rank\"].astype(float)"
   ]
  },
  {
   "cell_type": "markdown",
   "metadata": {},
   "source": [
    "### horse_weight と diff の分離\n",
    "「計不」は平均で穴埋め"
   ]
  },
  {
   "cell_type": "code",
   "execution_count": 64,
   "metadata": {},
   "outputs": [],
   "source": [
    "horse_weight_dif = horse_df[\"horse_weight\"].str.extract('\\(([-|+]?\\d*)\\)', expand=True)\n",
    "horse_weight_dif.columns ={\"horse_weight_dif\"}\n",
    "\n",
    "horse_df = pd.concat([horse_df, horse_weight_dif], axis=1)\n",
    "\n",
    "horse_df['horse_weight'] = horse_df['horse_weight'].replace('\\(([-|+]?\\d*)\\)', '', regex=True)\n",
    "\n"
   ]
  },
  {
   "cell_type": "code",
   "execution_count": 65,
   "metadata": {},
   "outputs": [],
   "source": [
    "horse_df['horse_weight'] = horse_df['horse_weight'].replace('計不', np.nan)\n",
    "horse_df['horse_weight'] = horse_df['horse_weight'].astype(float)\n",
    "horse_df['horse_weight_dif'] = horse_df['horse_weight_dif'].astype(float)"
   ]
  },
  {
   "cell_type": "code",
   "execution_count": 66,
   "metadata": {},
   "outputs": [],
   "source": [
    "# 計不 の horse_idを探し、馬ごとの平均値で穴埋め\n",
    "no_records = horse_df[horse_df['horse_weight'].isnull()]['horse_id']\n",
    "for no_record_id in no_records:\n",
    "    horse_df.loc[(horse_df['horse_id'] == no_record_id)&(horse_df['horse_weight'].isnull()), 'horse_weight'] = horse_df[horse_df['horse_id'] == no_record_id]['horse_weight'].mean() \n",
    "    horse_df.loc[(horse_df['horse_id'] == no_record_id)&(horse_df['horse_weight_dif'].isnull()), 'horse_weight_dif'] = 0 \n",
    "    "
   ]
  },
  {
   "cell_type": "code",
   "execution_count": 67,
   "metadata": {},
   "outputs": [
    {
     "data": {
      "text/plain": [
       "race_id                     object\n",
       "rank                        object\n",
       "frame_number                 int64\n",
       "horse_number                 int64\n",
       "horse_id                    object\n",
       "horse_name                  object\n",
       "age                          int64\n",
       "burden_weight              float64\n",
       "rider_id                    object\n",
       "goal_time                  float64\n",
       "half_way_rank              float64\n",
       "last_time                  float64\n",
       "odds                        object\n",
       "popular                    float64\n",
       "horse_weight               float64\n",
       "tamer_id                    object\n",
       "owner_id                    object\n",
       "date                datetime64[ns]\n",
       "is_down                      int64\n",
       "is_senba                     int64\n",
       "is_mesu                      int64\n",
       "is_osu                       int64\n",
       "distance                     int64\n",
       "avg_velocity               float64\n",
       "horse_weight_dif           float64\n",
       "dtype: object"
      ]
     },
     "execution_count": 67,
     "metadata": {},
     "output_type": "execute_result"
    }
   ],
   "source": [
    "horse_df.dtypes"
   ]
  },
  {
   "cell_type": "markdown",
   "metadata": {},
   "source": [
    "### burden_weight, horse_weight の比率を追加"
   ]
  },
  {
   "cell_type": "code",
   "execution_count": 68,
   "metadata": {},
   "outputs": [],
   "source": [
    "horse_df['burden_weight_rate'] = horse_df['burden_weight']/horse_df['horse_weight']"
   ]
  },
  {
   "cell_type": "markdown",
   "metadata": {},
   "source": [
    "### last_time\n",
    "とりあえず放置するが、外れ値の扱いを考えたほうが良さそう。"
   ]
  },
  {
   "cell_type": "code",
   "execution_count": 69,
   "metadata": {},
   "outputs": [
    {
     "data": {
      "text/plain": [
       "<matplotlib.axes._subplots.AxesSubplot at 0x12dadb630>"
      ]
     },
     "execution_count": 69,
     "metadata": {},
     "output_type": "execute_result"
    },
    {
     "data": {
      "image/png": "[encoded data removed]",
      "text/plain": [
       "<Figure size 1152x288 with 1 Axes>"
      ]
     },
     "metadata": {
      "needs_background": "light"
     },
     "output_type": "display_data"
    }
   ],
   "source": [
    "horse_df.plot(kind='hist', y='last_time' , bins=50, figsize=(16,4), alpha=0.5)"
   ]
  },
  {
   "cell_type": "code",
   "execution_count": 70,
   "metadata": {},
   "outputs": [
    {
     "data": {
      "text/plain": [
       "array(['200806010604', '200808010508', '200806010208', ...,\n",
       "       '201907040304', '201907040305', '201907040404'], dtype=object)"
      ]
     },
     "execution_count": 70,
     "metadata": {},
     "output_type": "execute_result"
    }
   ],
   "source": [
    "horse_df[horse_df['last_time']<20]['race_id'].unique()"
   ]
  },
  {
   "cell_type": "code",
   "execution_count": 71,
   "metadata": {},
   "outputs": [
    {
     "data": {
      "text/html": [
       "<div>\n",
       "<style scoped>\n",
       "    .dataframe tbody tr th:only-of-type {\n",
       "        vertical-align: middle;\n",
       "    }\n",
       "\n",
       "    .dataframe tbody tr th {\n",
       "        vertical-align: top;\n",
       "    }\n",
       "\n",
       "    .dataframe thead th {\n",
       "        text-align: right;\n",
       "    }\n",
       "</style>\n",
       "<table border=\"1\" class=\"dataframe\">\n",
       "  <thead>\n",
       "    <tr style=\"text-align: right;\">\n",
       "      <th></th>\n",
       "      <th>race_id</th>\n",
       "      <th>race_round</th>\n",
       "      <th>race_title</th>\n",
       "      <th>weather</th>\n",
       "      <th>ground_status</th>\n",
       "      <th>date</th>\n",
       "      <th>where_racecourse</th>\n",
       "      <th>total_horse_number</th>\n",
       "      <th>frame_number_first</th>\n",
       "      <th>horse_number_first</th>\n",
       "      <th>frame_number_second</th>\n",
       "      <th>horse_number_second</th>\n",
       "      <th>frame_number_third</th>\n",
       "      <th>horse_number_third</th>\n",
       "      <th>tansyo</th>\n",
       "      <th>hukusyo_first</th>\n",
       "      <th>hukusyo_second</th>\n",
       "      <th>hukusyo_third</th>\n",
       "      <th>wakuren</th>\n",
       "      <th>umaren</th>\n",
       "      <th>wide_1_2</th>\n",
       "      <th>wide_1_3</th>\n",
       "      <th>wide_2_3</th>\n",
       "      <th>umatan</th>\n",
       "      <th>renhuku3</th>\n",
       "      <th>rentan3</th>\n",
       "      <th>is_obstacle</th>\n",
       "      <th>ground_type</th>\n",
       "      <th>is_left_right_straight</th>\n",
       "      <th>distance</th>\n",
       "      <th>weather_rain</th>\n",
       "      <th>weather_snow</th>\n",
       "    </tr>\n",
       "  </thead>\n",
       "  <tbody>\n",
       "    <tr>\n",
       "      <th>92</th>\n",
       "      <td>200806010208</td>\n",
       "      <td>8</td>\n",
       "      <td>中山新春ジャンプS</td>\n",
       "      <td>晴</td>\n",
       "      <td>1</td>\n",
       "      <td>2008-01-06 13:40:00</td>\n",
       "      <td>中山</td>\n",
       "      <td>14</td>\n",
       "      <td>6</td>\n",
       "      <td>9</td>\n",
       "      <td>5</td>\n",
       "      <td>7</td>\n",
       "      <td>2</td>\n",
       "      <td>2</td>\n",
       "      <td>2550</td>\n",
       "      <td>510</td>\n",
       "      <td>530</td>\n",
       "      <td>220</td>\n",
       "      <td>970</td>\n",
       "      <td>21030</td>\n",
       "      <td>4010</td>\n",
       "      <td>2050</td>\n",
       "      <td>1870</td>\n",
       "      <td>44390</td>\n",
       "      <td>33660</td>\n",
       "      <td>0</td>\n",
       "      <td>1.0</td>\n",
       "      <td>芝</td>\n",
       "      <td>NaN</td>\n",
       "      <td>3200</td>\n",
       "      <td>0</td>\n",
       "      <td>0</td>\n",
       "    </tr>\n",
       "    <tr>\n",
       "      <th>203</th>\n",
       "      <td>200808010804</td>\n",
       "      <td>4</td>\n",
       "      <td>障害4歳以上未勝利</td>\n",
       "      <td>曇</td>\n",
       "      <td>4</td>\n",
       "      <td>2008-01-27 11:40:00</td>\n",
       "      <td>京都</td>\n",
       "      <td>14</td>\n",
       "      <td>7</td>\n",
       "      <td>12</td>\n",
       "      <td>1</td>\n",
       "      <td>1</td>\n",
       "      <td>8</td>\n",
       "      <td>13</td>\n",
       "      <td>380</td>\n",
       "      <td>130</td>\n",
       "      <td>110</td>\n",
       "      <td>430</td>\n",
       "      <td>350</td>\n",
       "      <td>340</td>\n",
       "      <td>180</td>\n",
       "      <td>1040</td>\n",
       "      <td>920</td>\n",
       "      <td>860</td>\n",
       "      <td>2020</td>\n",
       "      <td>0</td>\n",
       "      <td>1.0</td>\n",
       "      <td>芝</td>\n",
       "      <td>NaN</td>\n",
       "      <td>2930</td>\n",
       "      <td>0</td>\n",
       "      <td>0</td>\n",
       "    </tr>\n",
       "    <tr>\n",
       "      <th>210</th>\n",
       "      <td>200806010304</td>\n",
       "      <td>4</td>\n",
       "      <td>障害4歳以上未勝利</td>\n",
       "      <td>雨</td>\n",
       "      <td>1</td>\n",
       "      <td>2008-01-12 11:20:00</td>\n",
       "      <td>中山</td>\n",
       "      <td>14</td>\n",
       "      <td>3</td>\n",
       "      <td>4</td>\n",
       "      <td>2</td>\n",
       "      <td>2</td>\n",
       "      <td>5</td>\n",
       "      <td>8</td>\n",
       "      <td>2340</td>\n",
       "      <td>330</td>\n",
       "      <td>150</td>\n",
       "      <td>150</td>\n",
       "      <td>2760</td>\n",
       "      <td>3300</td>\n",
       "      <td>880</td>\n",
       "      <td>850</td>\n",
       "      <td>290</td>\n",
       "      <td>8390</td>\n",
       "      <td>2610</td>\n",
       "      <td>0</td>\n",
       "      <td>1.0</td>\n",
       "      <td>芝</td>\n",
       "      <td>NaN</td>\n",
       "      <td>2880</td>\n",
       "      <td>2</td>\n",
       "      <td>0</td>\n",
       "    </tr>\n",
       "  </tbody>\n",
       "</table>\n",
       "</div>"
      ],
      "text/plain": [
       "          race_id  race_round  race_title weather  ground_status  \\\n",
       "92   200806010208           8  中山新春ジャンプS        晴              1   \n",
       "203  200808010804           4   障害4歳以上未勝利       曇              4   \n",
       "210  200806010304           4   障害4歳以上未勝利       雨              1   \n",
       "\n",
       "                   date where_racecourse  total_horse_number  \\\n",
       "92  2008-01-06 13:40:00               中山                  14   \n",
       "203 2008-01-27 11:40:00               京都                  14   \n",
       "210 2008-01-12 11:20:00               中山                  14   \n",
       "\n",
       "     frame_number_first  horse_number_first  frame_number_second  \\\n",
       "92                    6                   9                    5   \n",
       "203                   7                  12                    1   \n",
       "210                   3                   4                    2   \n",
       "\n",
       "     horse_number_second  frame_number_third  horse_number_third  tansyo  \\\n",
       "92                     7                   2                   2    2550   \n",
       "203                    1                   8                  13     380   \n",
       "210                    2                   5                   8    2340   \n",
       "\n",
       "     hukusyo_first  hukusyo_second  hukusyo_third  wakuren  umaren  wide_1_2  \\\n",
       "92             510             530            220      970   21030      4010   \n",
       "203            130             110            430      350     340       180   \n",
       "210            330             150            150     2760    3300       880   \n",
       "\n",
       "     wide_1_3  wide_2_3  umatan  renhuku3  rentan3  is_obstacle ground_type  \\\n",
       "92       2050      1870   44390     33660        0          1.0           芝   \n",
       "203      1040       920     860      2020        0          1.0           芝   \n",
       "210       850       290    8390      2610        0          1.0           芝   \n",
       "\n",
       "    is_left_right_straight  distance  weather_rain  weather_snow  \n",
       "92                     NaN      3200             0             0  \n",
       "203                    NaN      2930             0             0  \n",
       "210                    NaN      2880             2             0  "
      ]
     },
     "execution_count": 71,
     "metadata": {},
     "output_type": "execute_result"
    }
   ],
   "source": [
    "race_df[(race_df['race_id']=='200808010804') | (race_df['race_id']=='200806010208') | (race_df['race_id']=='200806010304')]"
   ]
  },
  {
   "cell_type": "markdown",
   "metadata": {},
   "source": [
    "### odds"
   ]
  },
  {
   "cell_type": "code",
   "execution_count": 72,
   "metadata": {},
   "outputs": [],
   "source": [
    "horse_df['odds']= horse_df['odds'].astype(float)"
   ]
  },
  {
   "cell_type": "code",
   "execution_count": null,
   "metadata": {},
   "outputs": [],
   "source": []
  },
  {
   "cell_type": "markdown",
   "metadata": {},
   "source": [
    "### horse dataの保存"
   ]
  },
  {
   "cell_type": "code",
   "execution_count": 73,
   "metadata": {
    "scrolled": true
   },
   "outputs": [
    {
     "name": "stdout",
     "output_type": "stream",
     "text": [
      "race_id                       object\n",
      "rank                          object\n",
      "frame_number                   int64\n",
      "horse_number                   int64\n",
      "horse_id                      object\n",
      "horse_name                    object\n",
      "age                            int64\n",
      "burden_weight                float64\n",
      "rider_id                      object\n",
      "goal_time                    float64\n",
      "half_way_rank                float64\n",
      "last_time                    float64\n",
      "odds                         float64\n",
      "popular                      float64\n",
      "horse_weight                 float64\n",
      "tamer_id                      object\n",
      "owner_id                      object\n",
      "date                  datetime64[ns]\n",
      "is_down                        int64\n",
      "is_senba                       int64\n",
      "is_mesu                        int64\n",
      "is_osu                         int64\n",
      "distance                       int64\n",
      "avg_velocity                 float64\n",
      "horse_weight_dif             float64\n",
      "burden_weight_rate           float64\n",
      "dtype: object\n"
     ]
    },
    {
     "data": {
      "text/html": [
       "<div>\n",
       "<style scoped>\n",
       "    .dataframe tbody tr th:only-of-type {\n",
       "        vertical-align: middle;\n",
       "    }\n",
       "\n",
       "    .dataframe tbody tr th {\n",
       "        vertical-align: top;\n",
       "    }\n",
       "\n",
       "    .dataframe thead th {\n",
       "        text-align: right;\n",
       "    }\n",
       "</style>\n",
       "<table border=\"1\" class=\"dataframe\">\n",
       "  <thead>\n",
       "    <tr style=\"text-align: right;\">\n",
       "      <th></th>\n",
       "      <th>race_id</th>\n",
       "      <th>rank</th>\n",
       "      <th>frame_number</th>\n",
       "      <th>horse_number</th>\n",
       "      <th>horse_id</th>\n",
       "      <th>horse_name</th>\n",
       "      <th>age</th>\n",
       "      <th>burden_weight</th>\n",
       "      <th>rider_id</th>\n",
       "      <th>goal_time</th>\n",
       "      <th>half_way_rank</th>\n",
       "      <th>last_time</th>\n",
       "      <th>odds</th>\n",
       "      <th>popular</th>\n",
       "      <th>horse_weight</th>\n",
       "      <th>tamer_id</th>\n",
       "      <th>owner_id</th>\n",
       "      <th>date</th>\n",
       "      <th>is_down</th>\n",
       "      <th>is_senba</th>\n",
       "      <th>is_mesu</th>\n",
       "      <th>is_osu</th>\n",
       "      <th>distance</th>\n",
       "      <th>avg_velocity</th>\n",
       "      <th>horse_weight_dif</th>\n",
       "      <th>burden_weight_rate</th>\n",
       "    </tr>\n",
       "  </thead>\n",
       "  <tbody>\n",
       "    <tr>\n",
       "      <th>0</th>\n",
       "      <td>200808010109</td>\n",
       "      <td>1</td>\n",
       "      <td>8</td>\n",
       "      <td>15</td>\n",
       "      <td>2003106135</td>\n",
       "      <td>レキシントンシチー</td>\n",
       "      <td>5</td>\n",
       "      <td>57.0</td>\n",
       "      <td>666</td>\n",
       "      <td>70.8</td>\n",
       "      <td>1.0</td>\n",
       "      <td>36.1</td>\n",
       "      <td>2.5</td>\n",
       "      <td>1.0</td>\n",
       "      <td>498.0</td>\n",
       "      <td>429</td>\n",
       "      <td>321800</td>\n",
       "      <td>2008-01-05 14:30:00</td>\n",
       "      <td>0</td>\n",
       "      <td>0</td>\n",
       "      <td>0</td>\n",
       "      <td>1</td>\n",
       "      <td>1200</td>\n",
       "      <td>16.949153</td>\n",
       "      <td>2.0</td>\n",
       "      <td>0.114458</td>\n",
       "    </tr>\n",
       "    <tr>\n",
       "      <th>1</th>\n",
       "      <td>200808010109</td>\n",
       "      <td>2</td>\n",
       "      <td>2</td>\n",
       "      <td>3</td>\n",
       "      <td>2003103517</td>\n",
       "      <td>カシノエスケイプ</td>\n",
       "      <td>5</td>\n",
       "      <td>55.0</td>\n",
       "      <td>1111</td>\n",
       "      <td>71.1</td>\n",
       "      <td>10.0</td>\n",
       "      <td>35.4</td>\n",
       "      <td>24.0</td>\n",
       "      <td>8.0</td>\n",
       "      <td>502.0</td>\n",
       "      <td>398</td>\n",
       "      <td>514009</td>\n",
       "      <td>2008-01-05 14:30:00</td>\n",
       "      <td>0</td>\n",
       "      <td>0</td>\n",
       "      <td>1</td>\n",
       "      <td>0</td>\n",
       "      <td>1200</td>\n",
       "      <td>16.877637</td>\n",
       "      <td>2.0</td>\n",
       "      <td>0.109562</td>\n",
       "    </tr>\n",
       "    <tr>\n",
       "      <th>2</th>\n",
       "      <td>200808010109</td>\n",
       "      <td>3</td>\n",
       "      <td>7</td>\n",
       "      <td>13</td>\n",
       "      <td>2003106389</td>\n",
       "      <td>ナリタジューン</td>\n",
       "      <td>5</td>\n",
       "      <td>55.0</td>\n",
       "      <td>945</td>\n",
       "      <td>71.3</td>\n",
       "      <td>2.0</td>\n",
       "      <td>36.5</td>\n",
       "      <td>4.7</td>\n",
       "      <td>2.0</td>\n",
       "      <td>452.0</td>\n",
       "      <td>1073</td>\n",
       "      <td>712800</td>\n",
       "      <td>2008-01-05 14:30:00</td>\n",
       "      <td>0</td>\n",
       "      <td>0</td>\n",
       "      <td>1</td>\n",
       "      <td>0</td>\n",
       "      <td>1200</td>\n",
       "      <td>16.830295</td>\n",
       "      <td>8.0</td>\n",
       "      <td>0.121681</td>\n",
       "    </tr>\n",
       "  </tbody>\n",
       "</table>\n",
       "</div>"
      ],
      "text/plain": [
       "        race_id rank  frame_number  horse_number    horse_id horse_name  age  \\\n",
       "0  200808010109    1             8            15  2003106135  レキシントンシチー    5   \n",
       "1  200808010109    2             2             3  2003103517   カシノエスケイプ    5   \n",
       "2  200808010109    3             7            13  2003106389    ナリタジューン    5   \n",
       "\n",
       "   burden_weight rider_id  goal_time  half_way_rank  last_time  odds  popular  \\\n",
       "0           57.0      666       70.8            1.0       36.1   2.5      1.0   \n",
       "1           55.0     1111       71.1           10.0       35.4  24.0      8.0   \n",
       "2           55.0      945       71.3            2.0       36.5   4.7      2.0   \n",
       "\n",
       "   horse_weight tamer_id owner_id                date  is_down  is_senba  \\\n",
       "0         498.0      429   321800 2008-01-05 14:30:00        0         0   \n",
       "1         502.0      398   514009 2008-01-05 14:30:00        0         0   \n",
       "2         452.0     1073   712800 2008-01-05 14:30:00        0         0   \n",
       "\n",
       "   is_mesu  is_osu  distance  avg_velocity  horse_weight_dif  \\\n",
       "0        0       1      1200     16.949153               2.0   \n",
       "1        1       0      1200     16.877637               2.0   \n",
       "2        1       0      1200     16.830295               8.0   \n",
       "\n",
       "   burden_weight_rate  \n",
       "0            0.114458  \n",
       "1            0.109562  \n",
       "2            0.121681  "
      ]
     },
     "execution_count": 73,
     "metadata": {},
     "output_type": "execute_result"
    }
   ],
   "source": [
    "print(horse_df.dtypes)\n",
    "horse_df.head(3)"
   ]
  },
  {
   "cell_type": "code",
   "execution_count": 74,
   "metadata": {},
   "outputs": [],
   "source": [
    "horse_df.to_csv(\"csv/cleaned_horse_data.csv\", index=False )"
   ]
  },
  {
   "cell_type": "code",
   "execution_count": 210,
   "metadata": {},
   "outputs": [],
   "source": [
    "tarcoise_race = race_df[race_df['race_title'].str.contains('フューチュリティ')]\n",
    "tarcoise_horse = pd.DataFrame(data=None, index=None, columns=None, dtype=None, copy=False)\n",
    "for i, race in tarcoise_race.iterrows():\n",
    "    tmp = horse_df[(horse_df['race_id'] == race['race_id']) & (horse_df['rank'] <= 3) ]\n",
    "    tarcoise_horse = pd.concat([tarcoise_horse, tmp])\n",
    "# tarcoise_horse['age'].plot(kind='hist')\n",
    "#     for j, horse in tarcoise_horse.iterrows():\n",
    "        "
   ]
  },
  {
   "cell_type": "code",
   "execution_count": 214,
   "metadata": {},
   "outputs": [
    {
     "data": {
      "text/html": [
       "<div>\n",
       "<style scoped>\n",
       "    .dataframe tbody tr th:only-of-type {\n",
       "        vertical-align: middle;\n",
       "    }\n",
       "\n",
       "    .dataframe tbody tr th {\n",
       "        vertical-align: top;\n",
       "    }\n",
       "\n",
       "    .dataframe thead th {\n",
       "        text-align: right;\n",
       "    }\n",
       "</style>\n",
       "<table border=\"1\" class=\"dataframe\">\n",
       "  <thead>\n",
       "    <tr style=\"text-align: right;\">\n",
       "      <th></th>\n",
       "      <th>race_id</th>\n",
       "      <th>rank</th>\n",
       "      <th>frame_number</th>\n",
       "      <th>horse_number</th>\n",
       "      <th>horse_id</th>\n",
       "      <th>age</th>\n",
       "      <th>burden_weight</th>\n",
       "      <th>rider_id</th>\n",
       "      <th>goal_time</th>\n",
       "      <th>half_way_rank</th>\n",
       "      <th>last_time</th>\n",
       "      <th>odds</th>\n",
       "      <th>popular</th>\n",
       "      <th>horse_weight</th>\n",
       "      <th>tamer_id</th>\n",
       "      <th>owner_id</th>\n",
       "      <th>date</th>\n",
       "      <th>is_down</th>\n",
       "      <th>is_senba</th>\n",
       "      <th>is_mesu</th>\n",
       "      <th>is_osu</th>\n",
       "      <th>distance</th>\n",
       "      <th>avg_velocity</th>\n",
       "      <th>horse_weight_dif</th>\n",
       "      <th>burden_weight_rate</th>\n",
       "    </tr>\n",
       "  </thead>\n",
       "  <tbody>\n",
       "    <tr>\n",
       "      <th>46937</th>\n",
       "      <td>200806050611</td>\n",
       "      <td>1</td>\n",
       "      <td>2</td>\n",
       "      <td>3</td>\n",
       "      <td>2006106430</td>\n",
       "      <td>2</td>\n",
       "      <td>55.0</td>\n",
       "      <td>5203</td>\n",
       "      <td>95.1</td>\n",
       "      <td>8.333333</td>\n",
       "      <td>35.0</td>\n",
       "      <td>5.4</td>\n",
       "      <td>2.0</td>\n",
       "      <td>514.0</td>\n",
       "      <td>345</td>\n",
       "      <td>23006</td>\n",
       "      <td>2008-12-21 15:25:00</td>\n",
       "      <td>0</td>\n",
       "      <td>0</td>\n",
       "      <td>0</td>\n",
       "      <td>1</td>\n",
       "      <td>1600</td>\n",
       "      <td>16.824395</td>\n",
       "      <td>10.0</td>\n",
       "      <td>0.107004</td>\n",
       "    </tr>\n",
       "    <tr>\n",
       "      <th>46938</th>\n",
       "      <td>200806050611</td>\n",
       "      <td>2</td>\n",
       "      <td>6</td>\n",
       "      <td>11</td>\n",
       "      <td>2006102859</td>\n",
       "      <td>2</td>\n",
       "      <td>55.0</td>\n",
       "      <td>5339</td>\n",
       "      <td>95.1</td>\n",
       "      <td>7.666667</td>\n",
       "      <td>35.2</td>\n",
       "      <td>6.2</td>\n",
       "      <td>5.0</td>\n",
       "      <td>450.0</td>\n",
       "      <td>1059</td>\n",
       "      <td>486800</td>\n",
       "      <td>2008-12-21 15:25:00</td>\n",
       "      <td>0</td>\n",
       "      <td>0</td>\n",
       "      <td>0</td>\n",
       "      <td>1</td>\n",
       "      <td>1600</td>\n",
       "      <td>16.824395</td>\n",
       "      <td>6.0</td>\n",
       "      <td>0.122222</td>\n",
       "    </tr>\n",
       "    <tr>\n",
       "      <th>46939</th>\n",
       "      <td>200806050611</td>\n",
       "      <td>3</td>\n",
       "      <td>3</td>\n",
       "      <td>5</td>\n",
       "      <td>2006110007</td>\n",
       "      <td>2</td>\n",
       "      <td>55.0</td>\n",
       "      <td>666</td>\n",
       "      <td>95.2</td>\n",
       "      <td>9.666667</td>\n",
       "      <td>35.1</td>\n",
       "      <td>4.3</td>\n",
       "      <td>1.0</td>\n",
       "      <td>446.0</td>\n",
       "      <td>1054</td>\n",
       "      <td>486800</td>\n",
       "      <td>2008-12-21 15:25:00</td>\n",
       "      <td>0</td>\n",
       "      <td>0</td>\n",
       "      <td>0</td>\n",
       "      <td>1</td>\n",
       "      <td>1600</td>\n",
       "      <td>16.806723</td>\n",
       "      <td>10.0</td>\n",
       "      <td>0.123318</td>\n",
       "    </tr>\n",
       "    <tr>\n",
       "      <th>96836</th>\n",
       "      <td>200906050611</td>\n",
       "      <td>1</td>\n",
       "      <td>4</td>\n",
       "      <td>8</td>\n",
       "      <td>2007103404</td>\n",
       "      <td>2</td>\n",
       "      <td>55.0</td>\n",
       "      <td>894</td>\n",
       "      <td>94.0</td>\n",
       "      <td>8.000000</td>\n",
       "      <td>34.7</td>\n",
       "      <td>2.3</td>\n",
       "      <td>1.0</td>\n",
       "      <td>446.0</td>\n",
       "      <td>343</td>\n",
       "      <td>226800</td>\n",
       "      <td>2009-12-20 15:25:00</td>\n",
       "      <td>0</td>\n",
       "      <td>0</td>\n",
       "      <td>0</td>\n",
       "      <td>1</td>\n",
       "      <td>1600</td>\n",
       "      <td>17.021277</td>\n",
       "      <td>-4.0</td>\n",
       "      <td>0.123318</td>\n",
       "    </tr>\n",
       "    <tr>\n",
       "      <th>96837</th>\n",
       "      <td>200906050611</td>\n",
       "      <td>2</td>\n",
       "      <td>6</td>\n",
       "      <td>12</td>\n",
       "      <td>2007110020</td>\n",
       "      <td>2</td>\n",
       "      <td>55.0</td>\n",
       "      <td>1032</td>\n",
       "      <td>94.2</td>\n",
       "      <td>5.333333</td>\n",
       "      <td>35.2</td>\n",
       "      <td>5.3</td>\n",
       "      <td>2.0</td>\n",
       "      <td>496.0</td>\n",
       "      <td>1066</td>\n",
       "      <td>951005</td>\n",
       "      <td>2009-12-20 15:25:00</td>\n",
       "      <td>0</td>\n",
       "      <td>0</td>\n",
       "      <td>0</td>\n",
       "      <td>1</td>\n",
       "      <td>1600</td>\n",
       "      <td>16.985138</td>\n",
       "      <td>4.0</td>\n",
       "      <td>0.110887</td>\n",
       "    </tr>\n",
       "  </tbody>\n",
       "</table>\n",
       "</div>"
      ],
      "text/plain": [
       "            race_id  rank  frame_number  horse_number    horse_id  age  \\\n",
       "46937  200806050611     1             2             3  2006106430    2   \n",
       "46938  200806050611     2             6            11  2006102859    2   \n",
       "46939  200806050611     3             3             5  2006110007    2   \n",
       "96836  200906050611     1             4             8  2007103404    2   \n",
       "96837  200906050611     2             6            12  2007110020    2   \n",
       "\n",
       "       burden_weight rider_id  goal_time  half_way_rank  last_time  odds  \\\n",
       "46937           55.0     5203       95.1       8.333333       35.0   5.4   \n",
       "46938           55.0     5339       95.1       7.666667       35.2   6.2   \n",
       "46939           55.0      666       95.2       9.666667       35.1   4.3   \n",
       "96836           55.0      894       94.0       8.000000       34.7   2.3   \n",
       "96837           55.0     1032       94.2       5.333333       35.2   5.3   \n",
       "\n",
       "       popular  horse_weight tamer_id owner_id                date  is_down  \\\n",
       "46937      2.0         514.0      345    23006 2008-12-21 15:25:00        0   \n",
       "46938      5.0         450.0     1059   486800 2008-12-21 15:25:00        0   \n",
       "46939      1.0         446.0     1054   486800 2008-12-21 15:25:00        0   \n",
       "96836      1.0         446.0      343   226800 2009-12-20 15:25:00        0   \n",
       "96837      2.0         496.0     1066   951005 2009-12-20 15:25:00        0   \n",
       "\n",
       "       is_senba  is_mesu  is_osu  distance  avg_velocity  horse_weight_dif  \\\n",
       "46937         0        0       1      1600     16.824395              10.0   \n",
       "46938         0        0       1      1600     16.824395               6.0   \n",
       "46939         0        0       1      1600     16.806723              10.0   \n",
       "96836         0        0       1      1600     17.021277              -4.0   \n",
       "96837         0        0       1      1600     16.985138               4.0   \n",
       "\n",
       "       burden_weight_rate  \n",
       "46937            0.107004  \n",
       "46938            0.122222  \n",
       "46939            0.123318  \n",
       "96836            0.123318  \n",
       "96837            0.110887  "
      ]
     },
     "execution_count": 214,
     "metadata": {},
     "output_type": "execute_result"
    }
   ],
   "source": [
    "tarcoise_horse.head()"
   ]
  },
  {
   "cell_type": "code",
   "execution_count": 212,
   "metadata": {},
   "outputs": [
    {
     "data": {
      "text/plain": [
       "<matplotlib.axes._subplots.AxesSubplot at 0x1345c2c18>"
      ]
     },
     "execution_count": 212,
     "metadata": {},
     "output_type": "execute_result"
    },
    {
     "data": {
      "image/png": "[encoded data removed]",
      "text/plain": [
       "<Figure size 432x288 with 1 Axes>"
      ]
     },
     "metadata": {
      "needs_background": "light"
     },
     "output_type": "display_data"
    }
   ],
   "source": [
    "tarcoise_horse.burden_weight.plot(kind='hist')\n"
   ]
  },
  {
   "cell_type": "code",
   "execution_count": 218,
   "metadata": {},
   "outputs": [
    {
     "data": {
      "text/plain": [
       "<matplotlib.axes._subplots.AxesSubplot at 0x1256df390>"
      ]
     },
     "execution_count": 218,
     "metadata": {},
     "output_type": "execute_result"
    },
    {
     "data": {
      "image/png": "[encoded data removed]",
      "text/plain": [
       "<Figure size 432x288 with 1 Axes>"
      ]
     },
     "metadata": {
      "needs_background": "light"
     },
     "output_type": "display_data"
    }
   ],
   "source": [
    "tarcoise_horse.frame_number.hist()"
   ]
  },
  {
   "cell_type": "code",
   "execution_count": 213,
   "metadata": {},
   "outputs": [
    {
     "data": {
      "text/plain": [
       "<matplotlib.axes._subplots.AxesSubplot at 0x1344878d0>"
      ]
     },
     "execution_count": 213,
     "metadata": {},
     "output_type": "execute_result"
    },
    {
     "data": {
      "image/png": "[encoded data removed]",
      "text/plain": [
       "<Figure size 432x288 with 1 Axes>"
      ]
     },
     "metadata": {
      "needs_background": "light"
     },
     "output_type": "display_data"
    }
   ],
   "source": [
    "tarcoise_horse.popular.plot(kind='hist')"
   ]
  },
  {
   "cell_type": "code",
   "execution_count": 164,
   "metadata": {},
   "outputs": [
    {
     "ename": "KeyError",
     "evalue": "'sex_and_age'",
     "output_type": "error",
     "traceback": [
      "\u001b[0;31m---------------------------------------------------------------------------\u001b[0m",
      "\u001b[0;31mTypeError\u001b[0m                                 Traceback (most recent call last)",
      "\u001b[0;32m/usr/local/lib/python3.7/site-packages/pandas/core/indexes/base.py\u001b[0m in \u001b[0;36mget_value\u001b[0;34m(self, series, key)\u001b[0m\n\u001b[1;32m   4735\u001b[0m             \u001b[0;32mtry\u001b[0m\u001b[0;34m:\u001b[0m\u001b[0;34m\u001b[0m\u001b[0;34m\u001b[0m\u001b[0m\n\u001b[0;32m-> 4736\u001b[0;31m                 \u001b[0;32mreturn\u001b[0m \u001b[0mlibindex\u001b[0m\u001b[0;34m.\u001b[0m\u001b[0mget_value_box\u001b[0m\u001b[0;34m(\u001b[0m\u001b[0ms\u001b[0m\u001b[0;34m,\u001b[0m \u001b[0mkey\u001b[0m\u001b[0;34m)\u001b[0m\u001b[0;34m\u001b[0m\u001b[0;34m\u001b[0m\u001b[0m\n\u001b[0m\u001b[1;32m   4737\u001b[0m             \u001b[0;32mexcept\u001b[0m \u001b[0mIndexError\u001b[0m\u001b[0;34m:\u001b[0m\u001b[0;34m\u001b[0m\u001b[0;34m\u001b[0m\u001b[0m\n",
      "\u001b[0;32mpandas/_libs/index.pyx\u001b[0m in \u001b[0;36mpandas._libs.index.get_value_box\u001b[0;34m()\u001b[0m\n",
      "\u001b[0;32mpandas/_libs/index.pyx\u001b[0m in \u001b[0;36mpandas._libs.index.get_value_at\u001b[0;34m()\u001b[0m\n",
      "\u001b[0;32mpandas/_libs/util.pxd\u001b[0m in \u001b[0;36mpandas._libs.util.get_value_at\u001b[0;34m()\u001b[0m\n",
      "\u001b[0;32mpandas/_libs/util.pxd\u001b[0m in \u001b[0;36mpandas._libs.util.validate_indexer\u001b[0;34m()\u001b[0m\n",
      "\u001b[0;31mTypeError\u001b[0m: 'str' object cannot be interpreted as an integer",
      "\nDuring handling of the above exception, another exception occurred:\n",
      "\u001b[0;31mKeyError\u001b[0m                                  Traceback (most recent call last)",
      "\u001b[0;32m<ipython-input-164-462c6b234bd9>\u001b[0m in \u001b[0;36m<module>\u001b[0;34m\u001b[0m\n\u001b[1;32m      5\u001b[0m     \u001b[0marima_horse\u001b[0m \u001b[0;34m=\u001b[0m \u001b[0mhorse_df\u001b[0m\u001b[0;34m[\u001b[0m\u001b[0;34m(\u001b[0m\u001b[0mhorse_df\u001b[0m\u001b[0;34m[\u001b[0m\u001b[0;34m'race_id'\u001b[0m\u001b[0;34m]\u001b[0m \u001b[0;34m==\u001b[0m \u001b[0mrace\u001b[0m\u001b[0;34m[\u001b[0m\u001b[0;34m'race_id'\u001b[0m\u001b[0;34m]\u001b[0m\u001b[0;34m)\u001b[0m \u001b[0;34m&\u001b[0m \u001b[0;34m(\u001b[0m\u001b[0mhorse_df\u001b[0m\u001b[0;34m[\u001b[0m\u001b[0;34m'rank'\u001b[0m\u001b[0;34m]\u001b[0m \u001b[0;34m<=\u001b[0m \u001b[0;36m3\u001b[0m\u001b[0;34m)\u001b[0m\u001b[0;34m]\u001b[0m\u001b[0;34m\u001b[0m\u001b[0;34m\u001b[0m\u001b[0m\n\u001b[1;32m      6\u001b[0m     \u001b[0;32mfor\u001b[0m \u001b[0mj\u001b[0m\u001b[0;34m,\u001b[0m \u001b[0mhorse\u001b[0m \u001b[0;32min\u001b[0m \u001b[0marima_horse\u001b[0m\u001b[0;34m.\u001b[0m\u001b[0miterrows\u001b[0m\u001b[0;34m(\u001b[0m\u001b[0;34m)\u001b[0m\u001b[0;34m:\u001b[0m\u001b[0;34m\u001b[0m\u001b[0;34m\u001b[0m\u001b[0m\n\u001b[0;32m----> 7\u001b[0;31m         \u001b[0mprint\u001b[0m\u001b[0;34m(\u001b[0m\u001b[0mhorse\u001b[0m\u001b[0;34m[\u001b[0m\u001b[0;34m'sex_and_age'\u001b[0m\u001b[0;34m]\u001b[0m\u001b[0;34m,\u001b[0m \u001b[0mhorse\u001b[0m\u001b[0;34m[\u001b[0m\u001b[0;34m'rank'\u001b[0m\u001b[0;34m]\u001b[0m\u001b[0;34m)\u001b[0m\u001b[0;34m\u001b[0m\u001b[0;34m\u001b[0m\u001b[0m\n\u001b[0m\u001b[1;32m      8\u001b[0m \u001b[0;34m\u001b[0m\u001b[0m\n",
      "\u001b[0;32m/usr/local/lib/python3.7/site-packages/pandas/core/series.py\u001b[0m in \u001b[0;36m__getitem__\u001b[0;34m(self, key)\u001b[0m\n\u001b[1;32m   1069\u001b[0m         \u001b[0mkey\u001b[0m \u001b[0;34m=\u001b[0m \u001b[0mcom\u001b[0m\u001b[0;34m.\u001b[0m\u001b[0mapply_if_callable\u001b[0m\u001b[0;34m(\u001b[0m\u001b[0mkey\u001b[0m\u001b[0;34m,\u001b[0m \u001b[0mself\u001b[0m\u001b[0;34m)\u001b[0m\u001b[0;34m\u001b[0m\u001b[0;34m\u001b[0m\u001b[0m\n\u001b[1;32m   1070\u001b[0m         \u001b[0;32mtry\u001b[0m\u001b[0;34m:\u001b[0m\u001b[0;34m\u001b[0m\u001b[0;34m\u001b[0m\u001b[0m\n\u001b[0;32m-> 1071\u001b[0;31m             \u001b[0mresult\u001b[0m \u001b[0;34m=\u001b[0m \u001b[0mself\u001b[0m\u001b[0;34m.\u001b[0m\u001b[0mindex\u001b[0m\u001b[0;34m.\u001b[0m\u001b[0mget_value\u001b[0m\u001b[0;34m(\u001b[0m\u001b[0mself\u001b[0m\u001b[0;34m,\u001b[0m \u001b[0mkey\u001b[0m\u001b[0;34m)\u001b[0m\u001b[0;34m\u001b[0m\u001b[0;34m\u001b[0m\u001b[0m\n\u001b[0m\u001b[1;32m   1072\u001b[0m \u001b[0;34m\u001b[0m\u001b[0m\n\u001b[1;32m   1073\u001b[0m             \u001b[0;32mif\u001b[0m \u001b[0;32mnot\u001b[0m \u001b[0mis_scalar\u001b[0m\u001b[0;34m(\u001b[0m\u001b[0mresult\u001b[0m\u001b[0;34m)\u001b[0m\u001b[0;34m:\u001b[0m\u001b[0;34m\u001b[0m\u001b[0;34m\u001b[0m\u001b[0m\n",
      "\u001b[0;32m/usr/local/lib/python3.7/site-packages/pandas/core/indexes/base.py\u001b[0m in \u001b[0;36mget_value\u001b[0;34m(self, series, key)\u001b[0m\n\u001b[1;32m   4742\u001b[0m                     \u001b[0;32mraise\u001b[0m \u001b[0mInvalidIndexError\u001b[0m\u001b[0;34m(\u001b[0m\u001b[0mkey\u001b[0m\u001b[0;34m)\u001b[0m\u001b[0;34m\u001b[0m\u001b[0;34m\u001b[0m\u001b[0m\n\u001b[1;32m   4743\u001b[0m                 \u001b[0;32melse\u001b[0m\u001b[0;34m:\u001b[0m\u001b[0;34m\u001b[0m\u001b[0;34m\u001b[0m\u001b[0m\n\u001b[0;32m-> 4744\u001b[0;31m                     \u001b[0;32mraise\u001b[0m \u001b[0me1\u001b[0m\u001b[0;34m\u001b[0m\u001b[0;34m\u001b[0m\u001b[0m\n\u001b[0m\u001b[1;32m   4745\u001b[0m             \u001b[0;32mexcept\u001b[0m \u001b[0mException\u001b[0m\u001b[0;34m:\u001b[0m  \u001b[0;31m# pragma: no cover\u001b[0m\u001b[0;34m\u001b[0m\u001b[0;34m\u001b[0m\u001b[0m\n\u001b[1;32m   4746\u001b[0m                 \u001b[0;32mraise\u001b[0m \u001b[0me1\u001b[0m\u001b[0;34m\u001b[0m\u001b[0;34m\u001b[0m\u001b[0m\n",
      "\u001b[0;32m/usr/local/lib/python3.7/site-packages/pandas/core/indexes/base.py\u001b[0m in \u001b[0;36mget_value\u001b[0;34m(self, series, key)\u001b[0m\n\u001b[1;32m   4728\u001b[0m         \u001b[0mk\u001b[0m \u001b[0;34m=\u001b[0m \u001b[0mself\u001b[0m\u001b[0;34m.\u001b[0m\u001b[0m_convert_scalar_indexer\u001b[0m\u001b[0;34m(\u001b[0m\u001b[0mk\u001b[0m\u001b[0;34m,\u001b[0m \u001b[0mkind\u001b[0m\u001b[0;34m=\u001b[0m\u001b[0;34m\"getitem\"\u001b[0m\u001b[0;34m)\u001b[0m\u001b[0;34m\u001b[0m\u001b[0;34m\u001b[0m\u001b[0m\n\u001b[1;32m   4729\u001b[0m         \u001b[0;32mtry\u001b[0m\u001b[0;34m:\u001b[0m\u001b[0;34m\u001b[0m\u001b[0;34m\u001b[0m\u001b[0m\n\u001b[0;32m-> 4730\u001b[0;31m             \u001b[0;32mreturn\u001b[0m \u001b[0mself\u001b[0m\u001b[0;34m.\u001b[0m\u001b[0m_engine\u001b[0m\u001b[0;34m.\u001b[0m\u001b[0mget_value\u001b[0m\u001b[0;34m(\u001b[0m\u001b[0ms\u001b[0m\u001b[0;34m,\u001b[0m \u001b[0mk\u001b[0m\u001b[0;34m,\u001b[0m \u001b[0mtz\u001b[0m\u001b[0;34m=\u001b[0m\u001b[0mgetattr\u001b[0m\u001b[0;34m(\u001b[0m\u001b[0mseries\u001b[0m\u001b[0;34m.\u001b[0m\u001b[0mdtype\u001b[0m\u001b[0;34m,\u001b[0m \u001b[0;34m\"tz\"\u001b[0m\u001b[0;34m,\u001b[0m \u001b[0;32mNone\u001b[0m\u001b[0;34m)\u001b[0m\u001b[0;34m)\u001b[0m\u001b[0;34m\u001b[0m\u001b[0;34m\u001b[0m\u001b[0m\n\u001b[0m\u001b[1;32m   4731\u001b[0m         \u001b[0;32mexcept\u001b[0m \u001b[0mKeyError\u001b[0m \u001b[0;32mas\u001b[0m \u001b[0me1\u001b[0m\u001b[0;34m:\u001b[0m\u001b[0;34m\u001b[0m\u001b[0;34m\u001b[0m\u001b[0m\n\u001b[1;32m   4732\u001b[0m             \u001b[0;32mif\u001b[0m \u001b[0mlen\u001b[0m\u001b[0;34m(\u001b[0m\u001b[0mself\u001b[0m\u001b[0;34m)\u001b[0m \u001b[0;34m>\u001b[0m \u001b[0;36m0\u001b[0m \u001b[0;32mand\u001b[0m \u001b[0;34m(\u001b[0m\u001b[0mself\u001b[0m\u001b[0;34m.\u001b[0m\u001b[0mholds_integer\u001b[0m\u001b[0;34m(\u001b[0m\u001b[0;34m)\u001b[0m \u001b[0;32mor\u001b[0m \u001b[0mself\u001b[0m\u001b[0;34m.\u001b[0m\u001b[0mis_boolean\u001b[0m\u001b[0;34m(\u001b[0m\u001b[0;34m)\u001b[0m\u001b[0;34m)\u001b[0m\u001b[0;34m:\u001b[0m\u001b[0;34m\u001b[0m\u001b[0;34m\u001b[0m\u001b[0m\n",
      "\u001b[0;32mpandas/_libs/index.pyx\u001b[0m in \u001b[0;36mpandas._libs.index.IndexEngine.get_value\u001b[0;34m()\u001b[0m\n",
      "\u001b[0;32mpandas/_libs/index.pyx\u001b[0m in \u001b[0;36mpandas._libs.index.IndexEngine.get_value\u001b[0;34m()\u001b[0m\n",
      "\u001b[0;32mpandas/_libs/index.pyx\u001b[0m in \u001b[0;36mpandas._libs.index.IndexEngine.get_loc\u001b[0;34m()\u001b[0m\n",
      "\u001b[0;32mpandas/_libs/hashtable_class_helper.pxi\u001b[0m in \u001b[0;36mpandas._libs.hashtable.PyObjectHashTable.get_item\u001b[0;34m()\u001b[0m\n",
      "\u001b[0;32mpandas/_libs/hashtable_class_helper.pxi\u001b[0m in \u001b[0;36mpandas._libs.hashtable.PyObjectHashTable.get_item\u001b[0;34m()\u001b[0m\n",
      "\u001b[0;31mKeyError\u001b[0m: 'sex_and_age'"
     ]
    }
   ],
   "source": [
    "arima_race = race_df[race_df[\"race_title\"].str.contains('有馬')]\n",
    "horse_df['rank'] = horse_df['rank'].astype(int)\n",
    "\n",
    "for i, race in arima_race.iterrows():\n",
    "    arima_horse = horse_df[(horse_df['race_id'] == race['race_id']) & (horse_df['rank'] <= 3)]\n",
    "    for j, horse in arima_horse.iterrows():\n",
    "        print(horse['sex_and_age'], horse['rank'])\n",
    "    "
   ]
  },
  {
   "cell_type": "code",
   "execution_count": null,
   "metadata": {},
   "outputs": [],
   "source": []
  }
 ],
 "metadata": {
  "kernelspec": {
   "display_name": "Python 3",
   "language": "python",
   "name": "python3"
  },
  "language_info": {
   "codemirror_mode": {
    "name": "ipython",
    "version": 3
   },
   "file_extension": ".py",
   "mimetype": "text/x-python",
   "name": "python",
   "nbconvert_exporter": "python",
   "pygments_lexer": "ipython3",
   "version": "3.7.3"
  }
 },
 "nbformat": 4,
 "nbformat_minor": 2
}
