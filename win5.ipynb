{
 "cells": [
  {
   "cell_type": "code",
   "execution_count": 54,
   "metadata": {},
   "outputs": [],
   "source": [
    "import pandas as pd\n",
    "race_df = pd.read_csv('./csv/cleaned_race_data.csv')\n",
    "horse_df = pd.read_csv('./csv/cleaned_horse_data.csv',  converters={'owner_id':str})"
   ]
  },
  {
   "cell_type": "code",
   "execution_count": 55,
   "metadata": {},
   "outputs": [],
   "source": [
    "def get_race_result_with_name(race_df, horse_df, name):\n",
    "    res = pd.DataFrame(data=None, index=None, columns=None, dtype=None, copy=False)\n",
    "    tgt_df = race_df[race_df['race_title'].str.contains(name)]\n",
    "    for i in tgt_df.race_id:\n",
    "        res = pd.concat([res, horse_df[horse_df['race_id'] == i]])\n",
    "    return res\n",
    "    "
   ]
  },
  {
   "cell_type": "code",
   "execution_count": 60,
   "metadata": {},
   "outputs": [],
   "source": [
    "def get_race_result_with_course (race_df, horse_df, course, distance, ground):\n",
    "    res = pd.DataFrame(data=None, index=None, columns=None, dtype=None, copy=False)\n",
    "    tgt_df = race_df[(race_df.where_racecourse == course) & (race_df.distance == distance) & (race_df.ground_type == ground)]\n",
    "    for i in tgt_df.race_id:\n",
    "        res = pd.concat([res, horse_df[horse_df['race_id'] == i]])\n",
    "    return res\n",
    "    "
   ]
  },
  {
   "cell_type": "code",
   "execution_count": 65,
   "metadata": {},
   "outputs": [],
   "source": [
    "nakayama_1800 = get_race_result_with_course(race_df, horse_df, '阪神', 1600, '芝')\n",
    "\n"
   ]
  },
  {
   "cell_type": "code",
   "execution_count": 66,
   "metadata": {},
   "outputs": [
    {
     "data": {
      "text/html": [
       "<div>\n",
       "<style scoped>\n",
       "    .dataframe tbody tr th:only-of-type {\n",
       "        vertical-align: middle;\n",
       "    }\n",
       "\n",
       "    .dataframe tbody tr th {\n",
       "        vertical-align: top;\n",
       "    }\n",
       "\n",
       "    .dataframe thead th {\n",
       "        text-align: right;\n",
       "    }\n",
       "</style>\n",
       "<table border=\"1\" class=\"dataframe\">\n",
       "  <thead>\n",
       "    <tr style=\"text-align: right;\">\n",
       "      <th></th>\n",
       "      <th>race_id</th>\n",
       "      <th>rank</th>\n",
       "      <th>frame_number</th>\n",
       "      <th>horse_number</th>\n",
       "      <th>horse_id</th>\n",
       "      <th>horse_name</th>\n",
       "      <th>age</th>\n",
       "      <th>burden_weight</th>\n",
       "      <th>rider_id</th>\n",
       "      <th>goal_time</th>\n",
       "      <th>...</th>\n",
       "      <th>owner_id</th>\n",
       "      <th>date</th>\n",
       "      <th>is_down</th>\n",
       "      <th>is_senba</th>\n",
       "      <th>is_mesu</th>\n",
       "      <th>is_osu</th>\n",
       "      <th>distance</th>\n",
       "      <th>avg_velocity</th>\n",
       "      <th>horse_weight_dif</th>\n",
       "      <th>burden_weight_rate</th>\n",
       "    </tr>\n",
       "  </thead>\n",
       "  <tbody>\n",
       "    <tr>\n",
       "      <th>7668</th>\n",
       "      <td>200809020109</td>\n",
       "      <td>1</td>\n",
       "      <td>5</td>\n",
       "      <td>9</td>\n",
       "      <td>2003102977</td>\n",
       "      <td>キャプテンベガ</td>\n",
       "      <td>5</td>\n",
       "      <td>57.0</td>\n",
       "      <td>5203</td>\n",
       "      <td>94.3</td>\n",
       "      <td>...</td>\n",
       "      <td>151006</td>\n",
       "      <td>2008-03-29 14:35:00</td>\n",
       "      <td>0</td>\n",
       "      <td>0</td>\n",
       "      <td>0</td>\n",
       "      <td>1</td>\n",
       "      <td>1600</td>\n",
       "      <td>16.967126</td>\n",
       "      <td>-2.0</td>\n",
       "      <td>0.128959</td>\n",
       "    </tr>\n",
       "    <tr>\n",
       "      <th>7669</th>\n",
       "      <td>200809020109</td>\n",
       "      <td>2</td>\n",
       "      <td>2</td>\n",
       "      <td>3</td>\n",
       "      <td>2003105450</td>\n",
       "      <td>トレノジュビリー</td>\n",
       "      <td>5</td>\n",
       "      <td>57.0</td>\n",
       "      <td>1026</td>\n",
       "      <td>94.4</td>\n",
       "      <td>...</td>\n",
       "      <td>539002</td>\n",
       "      <td>2008-03-29 14:35:00</td>\n",
       "      <td>0</td>\n",
       "      <td>0</td>\n",
       "      <td>0</td>\n",
       "      <td>1</td>\n",
       "      <td>1600</td>\n",
       "      <td>16.949153</td>\n",
       "      <td>-8.0</td>\n",
       "      <td>0.125000</td>\n",
       "    </tr>\n",
       "    <tr>\n",
       "      <th>7670</th>\n",
       "      <td>200809020109</td>\n",
       "      <td>3</td>\n",
       "      <td>5</td>\n",
       "      <td>8</td>\n",
       "      <td>2002110041</td>\n",
       "      <td>エイシンヴァイデン</td>\n",
       "      <td>6</td>\n",
       "      <td>57.0</td>\n",
       "      <td>637</td>\n",
       "      <td>94.5</td>\n",
       "      <td>...</td>\n",
       "      <td>951005</td>\n",
       "      <td>2008-03-29 14:35:00</td>\n",
       "      <td>0</td>\n",
       "      <td>0</td>\n",
       "      <td>0</td>\n",
       "      <td>1</td>\n",
       "      <td>1600</td>\n",
       "      <td>16.931217</td>\n",
       "      <td>-2.0</td>\n",
       "      <td>0.119247</td>\n",
       "    </tr>\n",
       "    <tr>\n",
       "      <th>7671</th>\n",
       "      <td>200809020109</td>\n",
       "      <td>4</td>\n",
       "      <td>7</td>\n",
       "      <td>12</td>\n",
       "      <td>2003102972</td>\n",
       "      <td>クイックシューター</td>\n",
       "      <td>5</td>\n",
       "      <td>57.0</td>\n",
       "      <td>5243</td>\n",
       "      <td>94.5</td>\n",
       "      <td>...</td>\n",
       "      <td>708800</td>\n",
       "      <td>2008-03-29 14:35:00</td>\n",
       "      <td>0</td>\n",
       "      <td>0</td>\n",
       "      <td>0</td>\n",
       "      <td>1</td>\n",
       "      <td>1600</td>\n",
       "      <td>16.931217</td>\n",
       "      <td>-2.0</td>\n",
       "      <td>0.122845</td>\n",
       "    </tr>\n",
       "    <tr>\n",
       "      <th>7672</th>\n",
       "      <td>200809020109</td>\n",
       "      <td>5</td>\n",
       "      <td>3</td>\n",
       "      <td>4</td>\n",
       "      <td>2002104446</td>\n",
       "      <td>ニホンピロリビエラ</td>\n",
       "      <td>6</td>\n",
       "      <td>57.0</td>\n",
       "      <td>1062</td>\n",
       "      <td>94.6</td>\n",
       "      <td>...</td>\n",
       "      <td>985001</td>\n",
       "      <td>2008-03-29 14:35:00</td>\n",
       "      <td>0</td>\n",
       "      <td>0</td>\n",
       "      <td>0</td>\n",
       "      <td>1</td>\n",
       "      <td>1600</td>\n",
       "      <td>16.913319</td>\n",
       "      <td>2.0</td>\n",
       "      <td>0.120253</td>\n",
       "    </tr>\n",
       "  </tbody>\n",
       "</table>\n",
       "<p>5 rows × 26 columns</p>\n",
       "</div>"
      ],
      "text/plain": [
       "           race_id  rank  frame_number  horse_number    horse_id horse_name  \\\n",
       "7668  200809020109     1             5             9  2003102977    キャプテンベガ   \n",
       "7669  200809020109     2             2             3  2003105450   トレノジュビリー   \n",
       "7670  200809020109     3             5             8  2002110041  エイシンヴァイデン   \n",
       "7671  200809020109     4             7            12  2003102972  クイックシューター   \n",
       "7672  200809020109     5             3             4  2002104446  ニホンピロリビエラ   \n",
       "\n",
       "      age  burden_weight  rider_id  goal_time  ...  owner_id  \\\n",
       "7668    5           57.0      5203       94.3  ...    151006   \n",
       "7669    5           57.0      1026       94.4  ...    539002   \n",
       "7670    6           57.0       637       94.5  ...    951005   \n",
       "7671    5           57.0      5243       94.5  ...    708800   \n",
       "7672    6           57.0      1062       94.6  ...    985001   \n",
       "\n",
       "                     date  is_down  is_senba  is_mesu  is_osu distance  \\\n",
       "7668  2008-03-29 14:35:00        0         0        0       1     1600   \n",
       "7669  2008-03-29 14:35:00        0         0        0       1     1600   \n",
       "7670  2008-03-29 14:35:00        0         0        0       1     1600   \n",
       "7671  2008-03-29 14:35:00        0         0        0       1     1600   \n",
       "7672  2008-03-29 14:35:00        0         0        0       1     1600   \n",
       "\n",
       "     avg_velocity  horse_weight_dif  burden_weight_rate  \n",
       "7668    16.967126              -2.0            0.128959  \n",
       "7669    16.949153              -8.0            0.125000  \n",
       "7670    16.931217              -2.0            0.119247  \n",
       "7671    16.931217              -2.0            0.122845  \n",
       "7672    16.913319               2.0            0.120253  \n",
       "\n",
       "[5 rows x 26 columns]"
      ]
     },
     "execution_count": 66,
     "metadata": {},
     "output_type": "execute_result"
    }
   ],
   "source": [
    "nakayama_1800.head()"
   ]
  },
  {
   "cell_type": "code",
   "execution_count": 67,
   "metadata": {},
   "outputs": [
    {
     "data": {
      "text/plain": [
       "<matplotlib.axes._subplots.AxesSubplot at 0x120bf6160>"
      ]
     },
     "execution_count": 67,
     "metadata": {},
     "output_type": "execute_result"
    },
    {
     "data": {
      "image/png": "[encoded data removed]",
      "text/plain": [
       "<Figure size 432x288 with 1 Axes>"
      ]
     },
     "metadata": {
      "needs_background": "light"
     },
     "output_type": "display_data"
    }
   ],
   "source": [
    "top3 = nakayama_1800[nakayama_1800['rank'] <= 1]\n",
    "top3.age.hist(bins = 20)"
   ]
  },
  {
   "cell_type": "code",
   "execution_count": 68,
   "metadata": {},
   "outputs": [
    {
     "data": {
      "text/plain": [
       "<matplotlib.axes._subplots.AxesSubplot at 0x120c76710>"
      ]
     },
     "execution_count": 68,
     "metadata": {},
     "output_type": "execute_result"
    },
    {
     "data": {
      "image/png": "[encoded data removed]",
      "text/plain": [
       "<Figure size 432x288 with 1 Axes>"
      ]
     },
     "metadata": {
      "needs_background": "light"
     },
     "output_type": "display_data"
    }
   ],
   "source": [
    "top3.frame_number.hist(bins=20)"
   ]
  },
  {
   "cell_type": "code",
   "execution_count": 69,
   "metadata": {},
   "outputs": [
    {
     "data": {
      "text/plain": [
       "<matplotlib.axes._subplots.AxesSubplot at 0x12100afd0>"
      ]
     },
     "execution_count": 69,
     "metadata": {},
     "output_type": "execute_result"
    },
    {
     "data": {
      "image/png": "[encoded data removed]",
      "text/plain": [
       "<Figure size 432x288 with 1 Axes>"
      ]
     },
     "metadata": {
      "needs_background": "light"
     },
     "output_type": "display_data"
    }
   ],
   "source": [
    "top3.burden_weight.hist(bins=20)"
   ]
  },
  {
   "cell_type": "code",
   "execution_count": null,
   "metadata": {},
   "outputs": [],
   "source": []
  }
 ],
 "metadata": {
  "kernelspec": {
   "display_name": "Python 3",
   "language": "python",
   "name": "python3"
  },
  "language_info": {
   "codemirror_mode": {
    "name": "ipython",
    "version": 3
   },
   "file_extension": ".py",
   "mimetype": "text/x-python",
   "name": "python",
   "nbconvert_exporter": "python",
   "pygments_lexer": "ipython3",
   "version": "3.7.3"
  }
 },
 "nbformat": 4,
 "nbformat_minor": 2
}
